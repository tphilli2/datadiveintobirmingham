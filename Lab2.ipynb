{
 "cells": [
  {
   "cell_type": "markdown",
   "id": "67079f47-006b-48fb-9b8b-8909f39b7e91",
   "metadata": {
    "tags": []
   },
   "source": [
    "## Lab 2: R in Descriptive Statistics\n",
    "#### MA 189 Data Dive Into Birmingham (with R)\n",
    "##### _Blazer Core: City as Classroom_\n",
    "\n",
    "Course Website: [Github.com/kerenli/statbirmingham/](https://github.com/kerenli/statbirmingham/) \n"
   ]
  },
  {
   "cell_type": "markdown",
   "id": "7c3a468e-87e3-401c-bba6-e9c4111bdbc3",
   "metadata": {
    "tags": []
   },
   "source": [
    "#### Levels:\n",
    "<div class=\"alert-success\"> Concepts and general information</div>\n",
    "<div class=\"alert-warning\"> Important methods and technique details </div>\n",
    "<div class=\"alert-info\"> Extended reading </div>\n",
    "<div class=\"alert-danger\"> (Local) Examples, assignments, and <b>Practice in Birmingham</b> </div>"
   ]
  },
  {
   "cell_type": "markdown",
   "id": "5110cb2f-c478-4512-a1b5-cb7f891947f7",
   "metadata": {},
   "source": [
    "In this lab, we will learn how to calculate and interpret descriptive statistics using `R`. We will cover measures of central tendency (mean, median, mode) and measures of variability (range, variance, standard deviation), and we will explore how to visualize these statistics."
   ]
  },
  {
   "cell_type": "markdown",
   "id": "3016c493-4ee4-4e6a-87c1-9d0d60b6e503",
   "metadata": {},
   "source": [
    "### <div class=\"alert alert-block alert-danger\"><b>Example</b>: Sales and Advertising Budget</div>\n",
    "\n",
    "Let's use the `marketing` dataset from the `datarium` (Data Bank for Statistical Analysis and Visualization) package to show how to calculate *mean*, *median*, *mode*, and *standard deviation* and visualize it. It contains the impact of three advertising medias (youtube, facebook and newspaper) on sales. Data are the advertising budget in thousands of dollars along with the sales. The advertising experiment has been repeated 200 times with different budgets and the observed sales have been recorded. "
   ]
  },
  {
   "cell_type": "markdown",
   "id": "4258f286-375c-4c6f-8c4e-117a83217d72",
   "metadata": {},
   "source": [
    "__Load libraries__"
   ]
  },
  {
   "cell_type": "code",
   "execution_count": null,
   "id": "1c28e284-f023-4dbc-a1bf-b2974868db34",
   "metadata": {
    "tags": []
   },
   "outputs": [],
   "source": [
    "library(datarium)\n",
    "library(ggplot2)\n",
    "install.packages(\"vctrs\")\n",
    "library(vctrs)\n",
    "library(tidyr)\n"
   ]
  },
  {
   "cell_type": "markdown",
   "id": "bd50f278-0f90-4aa2-8469-5ebea6bdb0c8",
   "metadata": {
    "jp-MarkdownHeadingCollapsed": true,
    "tags": []
   },
   "source": [
    "If you do not have some packages, for example, `datarium`, install it by running `install.packages(\"datarium\")`"
   ]
  },
  {
   "cell_type": "code",
   "execution_count": null,
   "id": "a86123bd-799a-4c2e-ba99-84b473b5e71f",
   "metadata": {
    "tags": []
   },
   "outputs": [],
   "source": [
    "install.packages(\"datarium\") #can comment out any of these if already have any of of these packages installed\n",
    "install.packages(\"ggplot2\")\n",
    "install.packages(\"tidyr\")"
   ]
  },
  {
   "cell_type": "markdown",
   "id": "121e3b06-ccff-445a-8763-78d38ef01e0f",
   "metadata": {},
   "source": [
    "__Import data__"
   ]
  },
  {
   "cell_type": "code",
   "execution_count": null,
   "id": "6fe6c70b-4159-459a-9f72-1f38a20136a1",
   "metadata": {
    "tags": []
   },
   "outputs": [],
   "source": [
    "data(\"marketing\", package = \"datarium\")\n",
    "str(marketing)\n",
    "head(marketing, 4)"
   ]
  },
  {
   "cell_type": "markdown",
   "id": "85b78085-0d0c-4d70-bc0c-6b289ada4b5c",
   "metadata": {},
   "source": [
    "__Mean__"
   ]
  },
  {
   "cell_type": "code",
   "execution_count": null,
   "id": "877a7d77-4d9f-4046-9786-a36928577f31",
   "metadata": {
    "tags": []
   },
   "outputs": [],
   "source": [
    "mean(marketing$facebook)"
   ]
  },
  {
   "cell_type": "code",
   "execution_count": null,
   "id": "67daaaa7-f52e-4fb5-9ed5-eeb0621b448d",
   "metadata": {
    "tags": []
   },
   "outputs": [],
   "source": [
    "colMeans(marketing)"
   ]
  },
  {
   "cell_type": "code",
   "execution_count": null,
   "id": "99eab3fe-f142-496a-b1d3-cfa3eed1eeb9",
   "metadata": {
    "tags": []
   },
   "outputs": [],
   "source": [
    "apply(marketing,2, mean)"
   ]
  },
  {
   "cell_type": "markdown",
   "id": "9ec1c44d-a8c9-44f6-adc2-9db37dd8d988",
   "metadata": {},
   "source": [
    "__Median__"
   ]
  },
  {
   "cell_type": "code",
   "execution_count": null,
   "id": "6ba3df46-c223-4d6b-803e-49efda39d8a0",
   "metadata": {
    "tags": []
   },
   "outputs": [],
   "source": [
    "median(marketing$facebook)\n",
    "apply(marketing,2, median)"
   ]
  },
  {
   "cell_type": "markdown",
   "id": "6bd332ed-b593-48a2-acb7-50e0651131e0",
   "metadata": {},
   "source": [
    "__Range, Standard deviation__ and __Variance__"
   ]
  },
  {
   "cell_type": "code",
   "execution_count": null,
   "id": "5007dfe2-cd04-4102-afa8-93d86ca6e850",
   "metadata": {
    "tags": []
   },
   "outputs": [],
   "source": [
    "range(marketing$facebook)\n",
    "sd(marketing$facebook)\n",
    "var(marketing$facebook)"
   ]
  },
  {
   "cell_type": "code",
   "execution_count": null,
   "id": "463684a1-2e57-4c86-812e-ab3b12efc3b7",
   "metadata": {
    "tags": []
   },
   "outputs": [],
   "source": [
    "apply(marketing, 2, sd)\n",
    "var.marketing <- var(marketing)\n",
    "var.marketing\n",
    "diag(var.marketing)"
   ]
  },
  {
   "cell_type": "markdown",
   "id": "6f45fd77-48d2-408f-bd57-c859420328cc",
   "metadata": {},
   "source": [
    "__Five number summary__"
   ]
  },
  {
   "cell_type": "code",
   "execution_count": null,
   "id": "b0a7e38f-bb16-46d2-b03b-5fe6f7be85e1",
   "metadata": {
    "tags": []
   },
   "outputs": [],
   "source": [
    "fivenum(marketing$facebook)"
   ]
  },
  {
   "cell_type": "code",
   "execution_count": null,
   "id": "d435554b-4b39-4ee8-9bbd-62205a04baa0",
   "metadata": {
    "scrolled": true,
    "tags": []
   },
   "outputs": [],
   "source": [
    "apply(marketing, 2, fivenum)"
   ]
  },
  {
   "cell_type": "markdown",
   "id": "08aa061f-ff06-4ddc-9a19-cfa0f653dc0f",
   "metadata": {},
   "source": [
    "### <div class=\"alert alert-block alert-danger\"><b>Example</b>: Arthritis Treatment Data</div>\n",
    "\n",
    "Data from Koch & Edwards (1988) from a double-blind clinical trial investigating a new treatment for rheumatoid arthritis. It is a  data frame with 84 observations and 5 variables.\n",
    "\n"
   ]
  },
  {
   "cell_type": "code",
   "execution_count": null,
   "id": "0b5720af-5352-42a2-b88d-bd74028061dd",
   "metadata": {
    "tags": []
   },
   "outputs": [],
   "source": [
    "install.packages(\"vcd\")\n",
    "library(vcd)\n",
    "\n",
    "data(Arthritis)\n",
    "str(Arthritis)\n",
    "head(Arthritis)\n",
    "summary(Arthritis)"
   ]
  },
  {
   "cell_type": "markdown",
   "id": "6b05cd67-40fb-45c5-974d-45deb438388d",
   "metadata": {},
   "source": [
    "__Mode__\n",
    "\n",
    "Since R doesn't have a `mode` base function, we need to create our own <span style=\"color:red\">Self-defined function</span>."
   ]
  },
  {
   "cell_type": "code",
   "execution_count": null,
   "id": "fa484a3d-004a-48fd-bfff-dde2d7b00c88",
   "metadata": {
    "tags": []
   },
   "outputs": [],
   "source": [
    "mode <- function(x) {\n",
    "  val <- as.data.frame(table(x))\n",
    "  return(val[which.max(val$Freq),1])\n",
    "}"
   ]
  },
  {
   "cell_type": "code",
   "execution_count": null,
   "id": "19abccbd-c3c0-41cb-a8e4-ca39d1bba75e",
   "metadata": {
    "tags": []
   },
   "outputs": [],
   "source": [
    "mode(Arthritis$Treatment)"
   ]
  },
  {
   "cell_type": "code",
   "execution_count": null,
   "id": "8e014ec1-4060-423f-b959-229ee2fc83a7",
   "metadata": {
    "tags": []
   },
   "outputs": [],
   "source": [
    "apply(Arthritis[, c(\"Treatment\",\"Sex\",\"Improved\")], 2, mode)"
   ]
  },
  {
   "cell_type": "markdown",
   "id": "7433c574-3632-46b9-8d7c-9bf18a5dee21",
   "metadata": {},
   "source": [
    "__Check factor levels (categories)__"
   ]
  },
  {
   "cell_type": "code",
   "execution_count": null,
   "id": "32bdb828-2a9d-4462-a731-fcd4c23c8fc9",
   "metadata": {
    "tags": []
   },
   "outputs": [],
   "source": [
    "levels(Arthritis$Treatment)\n",
    "levels(Arthritis$Improved)"
   ]
  },
  {
   "cell_type": "markdown",
   "id": "c887208e-3c8a-433a-addb-df77777f3b2a",
   "metadata": {},
   "source": [
    "__Frequency table__"
   ]
  },
  {
   "cell_type": "code",
   "execution_count": null,
   "id": "8cec0b0e-e2a0-49d2-8515-acc1dce2dc51",
   "metadata": {
    "tags": []
   },
   "outputs": [],
   "source": [
    "table.imp <- table(Arthritis$Improved)\n",
    "table.imp\n",
    "prop.table(table.imp)"
   ]
  },
  {
   "cell_type": "code",
   "execution_count": null,
   "id": "d470c9c6-0540-44bd-8648-f9e48884f0fa",
   "metadata": {
    "tags": []
   },
   "outputs": [],
   "source": [
    "cbind(Freq=table.imp, `Rel Freq`=prop.table(table.imp))"
   ]
  },
  {
   "cell_type": "markdown",
   "id": "52d0d84e-fe16-481b-9bf1-833f789f7319",
   "metadata": {},
   "source": [
    "__Cross table by two variables__"
   ]
  },
  {
   "cell_type": "code",
   "execution_count": null,
   "id": "06013f01-41fd-4058-b0b7-1788208fa120",
   "metadata": {
    "tags": []
   },
   "outputs": [],
   "source": [
    "xtab.arth <- xtabs(~ Treatment + Improved, Arthritis)\n",
    "xtab.arth\n",
    "prop.table(xtab.arth)  \n",
    "# or\n",
    "xtab.arth/sum(xtab.arth)"
   ]
  },
  {
   "cell_type": "markdown",
   "id": "68f538c1-24c3-4403-bbf1-57ab24258ade",
   "metadata": {},
   "source": [
    "__Barplots and boxplots__"
   ]
  },
  {
   "cell_type": "code",
   "execution_count": null,
   "id": "a8482623-bbf1-4a3b-b508-2a08b54a762b",
   "metadata": {
    "tags": []
   },
   "outputs": [],
   "source": [
    "barplot(colMeans(marketing))"
   ]
  },
  {
   "cell_type": "code",
   "execution_count": null,
   "id": "611a274c-2300-4e0d-b295-9173767b81b4",
   "metadata": {
    "tags": []
   },
   "outputs": [],
   "source": [
    "## five number summary\n",
    "boxplot(marketing$facebook)"
   ]
  },
  {
   "cell_type": "code",
   "execution_count": null,
   "id": "38fc64ca-10c4-4cad-be31-2691d93650a2",
   "metadata": {
    "tags": []
   },
   "outputs": [],
   "source": [
    "boxplot(marketing)"
   ]
  },
  {
   "cell_type": "markdown",
   "id": "91a2d867-ffff-4f70-a7a0-5dd2e2324184",
   "metadata": {},
   "source": [
    "__Package: `ggplot2`__\n",
    "\n",
    "More in Chapter 7!"
   ]
  },
  {
   "cell_type": "code",
   "execution_count": null,
   "id": "6d4762b4-4cce-4d13-b856-30f187517418",
   "metadata": {
    "tags": []
   },
   "outputs": [],
   "source": [
    "ggplot(data=marketing, aes(x = youtube))+\n",
    "    geom_histogram(aes(y=after_stat(density)), alpha=0.5, \n",
    "                position=\"identity\",fill=\"white\", color=\"black\")+\n",
    "    geom_density(alpha=.2) \n"
   ]
  },
  {
   "cell_type": "code",
   "execution_count": null,
   "id": "e12704d2-8f37-464b-b156-f872ee2279c9",
   "metadata": {
    "tags": []
   },
   "outputs": [],
   "source": [
    "marketing2 <- gather(marketing)\n",
    "ggplot(marketing2,aes(x = value, color=key)) + \n",
    "    facet_wrap(~key,scales = \"free\") + \n",
    "    geom_histogram(aes(y=after_stat(density)), alpha=0.5, \n",
    "                position=\"identity\",fill=\"white\")+\n",
    "    geom_density(alpha=.2) "
   ]
  },
  {
   "cell_type": "markdown",
   "id": "ee1006ca-427a-44c2-a629-7bc2b285ed05",
   "metadata": {},
   "source": [
    "__Categorical Data Visualization__"
   ]
  },
  {
   "cell_type": "code",
   "execution_count": null,
   "id": "068cca17-2cc8-4a1d-81a0-a7ca91127829",
   "metadata": {
    "tags": []
   },
   "outputs": [],
   "source": [
    "plot(Arthritis$Improved)"
   ]
  },
  {
   "cell_type": "code",
   "execution_count": null,
   "id": "2d92afd6-8ef0-4714-9a36-9222906c56a6",
   "metadata": {
    "tags": []
   },
   "outputs": [],
   "source": [
    "pie(table(Arthritis$Improved))"
   ]
  },
  {
   "cell_type": "code",
   "execution_count": null,
   "id": "92b1a8c4-0094-487c-a3df-79007407d4e1",
   "metadata": {
    "tags": []
   },
   "outputs": [],
   "source": [
    "boxplot(Arthritis)"
   ]
  },
  {
   "cell_type": "code",
   "execution_count": null,
   "id": "7b3575e6-d4fe-4873-b30a-938f6cd3c38e",
   "metadata": {
    "tags": []
   },
   "outputs": [],
   "source": [
    "mosaic(Improved ~ Treatment | Sex, data = Arthritis, zero_size = 0)"
   ]
  },
  {
   "cell_type": "markdown",
   "id": "8a05010a-317e-4913-a281-e3179b107726",
   "metadata": {
    "tags": []
   },
   "source": [
    "### <div class=\"alert alert-block alert-danger\"><b>Lab Discussion  </b></div>\n",
    "Using the tools described above, find the mean, median, mode, and standard deviation for `mice2` data set from `datarium` package. \n",
    "\n",
    "\n"
   ]
  },
  {
   "cell_type": "code",
   "execution_count": null,
   "id": "7d64ec9f-5f22-4c94-ae6d-f95ab8221ee5",
   "metadata": {
    "tags": []
   },
   "outputs": [],
   "source": [
    "library(datarium)\n",
    "data(\"mice2\", package = \"datarium\")\n",
    "head(mice2)\n",
    "\n",
    "# For example: mean\n",
    "mean(mice2$before)\n",
    "colMeans(mice2[,2:3])\n",
    "# median\n",
    "\n",
    "\n",
    "\n",
    "# mode: first define function that can work with numerical data \n",
    "get_mode <- function(x) {\n",
    "  val <- as.data.frame(table(x))\n",
    "  mode_value <- as.numeric(as.character(val[which.max(val$Freq), \"x\"]))\n",
    "  return(mode_value)\n",
    "}\n",
    "\n",
    "\n",
    "# standard deviation\n"
   ]
  },
  {
   "cell_type": "markdown",
   "id": "f46deae3-2176-4c12-b3c9-cdb91613bf18",
   "metadata": {},
   "source": [
    "Represent the data visually with a histogram, scatter plot, box plot."
   ]
  },
  {
   "cell_type": "code",
   "execution_count": null,
   "id": "5e7588fc-bc74-4c2b-b842-c79807829daa",
   "metadata": {
    "tags": []
   },
   "outputs": [],
   "source": [
    "#hist(data_vector,\n",
    " #    main = \"Distribution of Sample Data\", # Chart title\n",
    "  #   xlab = \"Value\",                     # X-axis label\n",
    "   #  ylab = \"Frequency\",                 # Y-axis label\n",
    "    # col = \"lightblue\",                  # Bar color\n",
    "    # border = \"darkblue\",                # Bar border color\n",
    "    # breaks = 5)                         # Number of bins (approximate)\n"
   ]
  },
  {
   "cell_type": "markdown",
   "id": "17824c33-6779-4c8e-b47f-7e34f437d6c3",
   "metadata": {
    "tags": []
   },
   "source": [
    "##### Your answer:"
   ]
  },
  {
   "cell_type": "markdown",
   "id": "9e45f5d1-393b-4102-8307-353917bade4f",
   "metadata": {},
   "source": [
    "Is the mean or median more appropriate to use here as a measure of the center of data? Are there any outliers?"
   ]
  },
  {
   "cell_type": "markdown",
   "id": "abb5bb15-5a8c-472f-a192-d32a5dadf8e0",
   "metadata": {},
   "source": [
    "##### Your answer:"
   ]
  },
  {
   "cell_type": "markdown",
   "id": "ec56275a-48a4-459f-8269-15fab9829667",
   "metadata": {},
   "source": [
    "### <div class=\"alert alert-block alert-danger\"><b>Practice in Birmingham</b>"
   ]
  },
  {
   "cell_type": "markdown",
   "id": "9391096d-0861-461b-889f-d51d319c9342",
   "metadata": {
    "tags": []
   },
   "source": [
    "Now it's your turn to apply what you've learned to a few real-world datasets from Birmingham."
   ]
  },
  {
   "cell_type": "markdown",
   "id": "fa193ec6-e3bc-418f-81c3-451146a79701",
   "metadata": {},
   "source": [
    "**Part 1: Fire Data Analysis (2015-2017)**\n",
    "\n",
    "The City of Birmingham has published data on the number of fires that occurred in each zip code from 2015 to 2017 (https://data.birminghamal.gov/dataset/number-of-fires-by-zip-code-2015-2017/resource/862dca35-edce-4e91-95e0-20fe8235a1cd). \n",
    "1. Go to the dataset page above on the Birmingham Open Data Portal.\n",
    "\n",
    "2. On the webpage, locate the **Download** button (usually found near the top of the page or next to the dataset description).\n",
    "\n",
    "3. Download the dataset as a **CSV file** by clicking the **CSV** option under the \"Download\" menu.\n",
    "\n",
    "If you have trouble, here is the dataset, but it is good practice to know how to retrieve data on your own since you will need to do that in the future. \n",
    "\n",
    "[Number of Fires by Zip Code (2015-2017)](https://data.birminghamal.gov/dataset/d46de5bf-3454-4349-9d21-26ffa126f787/resource/436af558-0d87-454e-86e5-12adc36acad2/download/number-of-fires-by-zip-codes-2015-2017-csv.csv)\n",
    "\n",
    "4. After downloading the CSV file, save it in a known location on your local machine (for example, in a folder named \"data\" within your project folder)."
   ]
  },
  {
   "cell_type": "code",
   "execution_count": null,
   "id": "75adaa2d-c2f2-4624-985f-d7fdc150e401",
   "metadata": {
    "tags": []
   },
   "outputs": [],
   "source": [
    "#This is an alternative way to save a data file in a folder rather than manually moving it there\n",
    "\n",
    "# Set the working directory (if not already set to the project root)\n",
    "# setwd(\"/path/to/your/project/folder\")\n",
    "\n",
    "# Define the URL of the dataset\n",
    "url <- \"https://data.birminghamal.gov/dataset/d46de5bf-3454-4349-9d21-26ffa126f787/resource/436af558-0d87-454e-86e5-12adc36acad2/download/number-of-fires-by-zip-codes-2015-2017-csv.csv\"\n",
    "\n",
    "# Define the destination file path in the \"data\" folder\n",
    "# Create subfolder \"data\" if you do not have in the current directory\n",
    "destfile <- \"data/number-of-fires-by-zip-code-2015-2017.csv\"\n",
    "\n",
    "# Download the file\n",
    "download.file(url, destfile)"
   ]
  },
  {
   "cell_type": "code",
   "execution_count": null,
   "id": "ce8190fb-7e1f-4b58-87ce-ed53a7a8642f",
   "metadata": {
    "tags": []
   },
   "outputs": [],
   "source": [
    "# Open Jupyter Lab or R or R Studio if you don't have it open already\n",
    "# Use the `read.csv()` function to import the dataset into R, specifying the path to the file as an argument as needed\n",
    "# Read the CSV file into R\n",
    "fire_data <- read.csv(destfile)\n",
    "\n",
    "# Preview the first few rows of the dataset\n",
    "head(fire_data)"
   ]
  },
  {
   "cell_type": "markdown",
   "id": "6ad60d85-286a-4810-b14e-720799f721b8",
   "metadata": {},
   "source": [
    "Perform the following analyses:\n",
    "1. Calculate the mean, median, and standard deviation for the number of fires in each year.\n",
    "2. Visualize the data using an appropriate chart or graph.\n",
    "3. Identify any outliers.\n",
    "4. What conclusions can you make from this data set?"
   ]
  },
  {
   "cell_type": "markdown",
   "id": "b02beedd-17d2-4506-a781-5d156ebdd992",
   "metadata": {},
   "source": [
    "**Part 2: Community Garden Program Analysis**\n",
    "\n",
    "In 2018, three Birmingham neighborhood projects were started with a focus of transforming blighted areas into community gardens through a program called \"Love Your Block.\" (You can read more about it here: https://citiesofservice.jhu.edu/love-your-block/love-your-block-birmingham-alabama/).\n",
    "\n",
    "The data related to the gardens (\"love-your-block-lyb-year-3-metrics\") can be downloaded from the City of Birmingham website open dataset hub: https://data.birminghamal.gov/dataset/love-your-block-lyb-metrics-year-3-2018\n",
    "\n",
    "Answer the following: \n",
    "1. What proportion of the crops grown were watermelons for the Bush Hills Garden?\n",
    "2. Create a visualization to display the data.\n",
    "3. What conclusions can you make about the distribution of crops grown in the community gardens?"
   ]
  },
  {
   "cell_type": "markdown",
   "id": "807460af",
   "metadata": {},
   "source": [
    "**Submission:**\n",
    "\n",
    "   - Write your code in a separate script (.ipynb) and print it as a PDF or HTML file to submit the results on course Canvas website."
   ]
  }
 ],
 "metadata": {
  "kernelspec": {
   "display_name": "R",
   "language": "R",
   "name": "ir"
  },
  "language_info": {
   "codemirror_mode": "r",
   "file_extension": ".r",
   "mimetype": "text/x-r-source",
   "name": "R",
   "pygments_lexer": "r",
   "version": "4.3.1"
  }
 },
 "nbformat": 4,
 "nbformat_minor": 5
}
