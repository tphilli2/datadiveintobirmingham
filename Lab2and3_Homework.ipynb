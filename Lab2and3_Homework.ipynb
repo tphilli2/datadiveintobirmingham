{
 "cells": [
  {
   "cell_type": "markdown",
   "id": "84c183d3-784d-4e2f-9f1e-db588d81e6bc",
   "metadata": {},
   "source": [
    "# Lab 2 and 3 Homework\n",
    "\n",
    "### <div class=\"alert alert-block alert-danger\"><b>Practice in Birmingham: Fires, Community Gardens, and Generating Electricity </b></div>\n"
   ]
  },
  {
   "cell_type": "markdown",
   "id": "d93acf53-7dc2-49f2-bea3-a3c0be814061",
   "metadata": {},
   "source": [
    "#### Name:"
   ]
  },
  {
   "cell_type": "markdown",
   "id": "d9d7b636",
   "metadata": {},
   "source": [
    "Now it's your turn to apply what you've learned to a few real-world datasets from Birmingham. <br> \n",
    "<em>Note: This homework covers material from multiple lab days.</em>"
   ]
  },
  {
   "cell_type": "markdown",
   "id": "2af676a1-e3cd-44f3-878f-3b4bc770be75",
   "metadata": {},
   "source": [
    "**Part 1: Fire Data Analysis (2015-2017)**\n",
    "\n",
    "The City of Birmingham has published data on the number of fires that occurred in each zip code from 2015 to 2017 (https://data.birminghamal.gov/dataset/number-of-fires-by-zip-code-2015-2017/resource/862dca35-edce-4e91-95e0-20fe8235a1cd). \n",
    "1. Go to the dataset page above on the Birmingham Open Data Portal.\n",
    "\n",
    "2. On the webpage, locate the **Download** button (usually found near the top of the page or next to the dataset description).\n",
    "\n",
    "3. Download the dataset as a **CSV file** by clicking the **CSV** option under the \"Download\" menu.\n",
    "\n",
    "If you have trouble, here is the dataset, but it is good practice to know how to retrieve data on your own since you will need to do that in the future. \n",
    "\n",
    "[Number of Fires by Zip Code (2015-2017)](https://data.birminghamal.gov/dataset/d46de5bf-3454-4349-9d21-26ffa126f787/resource/436af558-0d87-454e-86e5-12adc36acad2/download/number-of-fires-by-zip-codes-2015-2017-csv.csv)\n",
    "\n",
    "4. After downloading the CSV file, save it in a known location on your local machine (for example, in a folder named \"data\" within your project folder)."
   ]
  },
  {
   "cell_type": "code",
   "execution_count": null,
   "id": "fd791680",
   "metadata": {},
   "outputs": [],
   "source": [
    "#This is an alternative way to save a data file in a folder rather than manually moving it there\n",
    "\n",
    "# Set the working directory (if not already set to the project root)\n",
    "# setwd(\"/path/to/your/project/folder\")\n",
    "\n",
    "# Define the URL of the dataset\n",
    "url <- \"https://data.birminghamal.gov/dataset/d46de5bf-3454-4349-9d21-26ffa126f787/resource/436af558-0d87-454e-86e5-12adc36acad2/download/number-of-fires-by-zip-codes-2015-2017-csv.csv\"\n",
    "\n",
    "# Define the destination file path in the \"data\" folder\n",
    "# Create subfolder \"data\" if you do not have in the current directory\n",
    "destfile <- \"data/number-of-fires-by-zip-code-2015-2017.csv\"\n",
    "\n",
    "# Download the file\n",
    "download.file(url, destfile)"
   ]
  },
  {
   "cell_type": "code",
   "execution_count": null,
   "id": "b674db14",
   "metadata": {},
   "outputs": [],
   "source": [
    "# Open Jupyter Lab or R or R Studio if you don't have it open already\n",
    "# Use the `read.csv()` function to import the dataset into R, specifying the path to the file as an argument as needed\n",
    "# Read the CSV file into R\n",
    "fire_data <- read.csv(destfile)\n",
    "\n",
    "# Preview the first few rows of the dataset\n",
    "head(fire_data)"
   ]
  },
  {
   "cell_type": "markdown",
   "id": "4220f2ba-c20e-41f8-8498-1d37c04481df",
   "metadata": {},
   "source": [
    "Perform the following analyses:\n",
    "1. Calculate the mean, median, and standard deviation for the number of fires in each year.\n",
    "2. Visualize the data using an appropriate chart or graph.\n",
    "3. Identify any outliers.\n",
    "4. What conclusions can you make from this data set?\n",
    "\n",
    "##### Your answer:"
   ]
  },
  {
   "cell_type": "markdown",
   "id": "503b56d4-d435-4344-a74e-b9b35539544e",
   "metadata": {},
   "source": [
    "**Part 2: Community Garden Program Analysis**\n",
    "\n",
    "In 2018, three Birmingham neighborhood projects were started with a focus of transforming blighted areas into community gardens through a program called \"Love Your Block.\" (You can read more about it here: https://citiesofservice.jhu.edu/love-your-block/love-your-block-birmingham-alabama/).\n",
    "\n",
    "The data related to the gardens (\"love-your-block-lyb-year-3-metrics\") can be downloaded from the City of Birmingham website open dataset hub: https://data.birminghamal.gov/dataset/love-your-block-lyb-metrics-year-3-2018\n",
    "\n",
    "Answer the following: \n",
    "1. What proportion of the crops grown were watermelons for the Bush Hills Garden?\n",
    "2. Create a visualization to display the data.\n",
    "3. What conclusions can you make about the distribution of crops grown in the community gardens?"
   ]
  },
  {
   "cell_type": "markdown",
   "id": "93801ea4",
   "metadata": {},
   "source": [
    "##### Your answer:"
   ]
  },
  {
   "cell_type": "markdown",
   "id": "9859e12e-65e4-4e50-b07f-291ee2830c8b",
   "metadata": {},
   "source": [
    "**Part 3: Generating Electricity**\n",
    "\n",
    "Consider the excel data set provided by Alabama Power Company called Lambdas and RTP Customer Loads. Alabama Power’s incremental cost of generating electricity is monitored using the system marginal cost also known as system lambda. Lambda represents the incremental cost of generating one more unit (megawatt-hour) of electricity. In a typical year (non-leap year), there are 8760 hours; thus, this industry often refers to the “8760 lambdas.” As a general rule, generating units that run to help meet peak energy usage on the system are incrementally more expensive to run than baseload plants (those plants that run in both peak and off-peak times).  "
   ]
  },
  {
   "cell_type": "markdown",
   "id": "f0e0f1a1-12e9-46af-9d54-a72e64ac36f1",
   "metadata": {},
   "source": [
    "**Question 1:** Calculate what the average cost was (in dollars per megawatt-hour) for generating electricity from 12am-6am in the year 2018. What about from 6am-12pm in 2018? What conclusion might you make from this comparison?\n",
    "\n",
    "**Hints:**\n",
    "To calculate the average cost (in dollars per megawatt-hour) for generating electricity during specific time periods (e.g., 12am-6am and 6am-12pm) in 2018, you can follow these steps. We'll first merge the relevant hourly columns for each time period and then calculate the averages."
   ]
  },
  {
   "cell_type": "code",
   "execution_count": null,
   "id": "17115dda-959e-4089-902a-28bc1372335f",
   "metadata": {},
   "outputs": [],
   "source": [
    "# load necessary libraries \n",
    "install.packages(\"tidyverse\")\n",
    "library (tidyverse)\n",
    "\n",
    "# installing package to read Excel file\n",
    "if (!require(readxl)) {\n",
    "    install.packages(\"readxl\")\n",
    "    library(readxl)\n",
    "}\n",
    "\n",
    "# Define the path to the Excel file\n",
    "file_path <- \"data/Lambdas and RTP Customer Loads.xlsx\"\n",
    "\n",
    "# Read the Excel file from the \"data\" subfolder, skipping reading first two rows\n",
    "lambda_data_2018 <- read_excel(file_path, sheet = \"2018 Lambdas\", skip=2)\n",
    "\n",
    "lambda_data #gives a lot of the data, with some dots in the middle \n",
    "head(lambda_data_2018) #gives a snapshot of first six rows of data\n",
    "\n",
    "# Reshape the dataset: Merging hourly columns into a single column\n",
    "data_long <- lambda_data_2018 %>%\n",
    "  pivot_longer(cols = starts_with(\"hour\"), # Select columns to merge\n",
    "               names_to = \"hour\",          # Name for the new column with hour identifiers\n",
    "               values_to = \"lambda\")       # Name for the new column with lambda values\n",
    "\n",
    "# View the reshaped dataset\n",
    "head(data_long,30) #shows 20 rows of data where it's organized with day, hour, lambda as columns "
   ]
  },
  {
   "cell_type": "code",
   "execution_count": null,
   "id": "e59991d3-05cd-4e9f-9e51-1624cd026215",
   "metadata": {},
   "outputs": [],
   "source": [
    "# Calculate the average cost from 12am-6am (hour01 to hour06)\n",
    "avg_cost_12am_6am <- data_long %>%\n",
    "  filter(hour %in% paste0(\"hour0\",1:6)) %>%\n",
    "  summarise(avg_lambda_12am_6am = mean(lambda, na.rm = TRUE))\n",
    "\n",
    "avg_cost_12am_6am"
   ]
  },
  {
   "cell_type": "markdown",
   "id": "b731be1a-f1a3-413e-8fa4-1ef1de56f5fb",
   "metadata": {},
   "source": [
    "##### Your answer:"
   ]
  },
  {
   "cell_type": "markdown",
   "id": "87616a70-02b2-4063-ae2a-6bbe46bae039",
   "metadata": {},
   "source": [
    "**Question 2:** Calculate the average cost for generating electricity from 12am-6am and from 6am-12pm in the year 2020. What conclusion might you make from this comparison?"
   ]
  },
  {
   "cell_type": "markdown",
   "id": "4c660e37-81c0-45fb-959d-3ad0b18764ff",
   "metadata": {},
   "source": [
    "##### Your answer:"
   ]
  },
  {
   "cell_type": "markdown",
   "id": "402afe19-4ad9-4a86-a991-a23b263cff5e",
   "metadata": {},
   "source": [
    "**Submission:**\n",
    "\n",
    "   - **Write your code in a separate script (.ipynb) and print it as a PDF or HTML file to submit the results on course Canvas website.**"
   ]
  }
 ],
 "metadata": {
  "kernelspec": {
   "display_name": "R",
   "language": "R",
   "name": "ir"
  },
  "language_info": {
   "codemirror_mode": "r",
   "file_extension": ".r",
   "mimetype": "text/x-r-source",
   "name": "R",
   "pygments_lexer": "r",
   "version": "4.3.1"
  }
 },
 "nbformat": 4,
 "nbformat_minor": 5
}
