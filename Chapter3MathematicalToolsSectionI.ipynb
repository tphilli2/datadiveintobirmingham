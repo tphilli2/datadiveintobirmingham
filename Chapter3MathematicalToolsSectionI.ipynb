{
 "cells": [
  {
   "cell_type": "markdown",
   "id": "f0191383-ddcb-4578-b05e-380d492dd892",
   "metadata": {
    "tags": []
   },
   "source": [
    "## Chapter 3 Section I: Basic Mathematical Tools for Data: Descriptive Statistics\n",
    "#### MA 189 Data Dive Into Birmingham (with R)\n",
    "##### _Blazer Core: City as Classroom_\n",
    "\n",
    "Course Website: [Github.com/kerenli/statbirmingham/](https://github.com/kerenli/statbirmingham/) (to be published)\n"
   ]
  },
  {
   "cell_type": "markdown",
   "id": "08d2fcf2-b953-42cd-a4a9-e97a943a7e1b",
   "metadata": {
    "tags": []
   },
   "source": [
    "#### Levels:\n",
    "<div class=\"alert-success\"> Concepts and general information</div>\n",
    "<div class=\"alert-warning\"> Important methods and technique details </div>\n",
    "<div class=\"alert-info\"> Extended reading </div>\n",
    "<div class=\"alert-danger\"> (Local) Examples, assignments, and <b>Practice in Birmingham</b> </div>"
   ]
  },
  {
   "cell_type": "markdown",
   "id": "0cbe4792",
   "metadata": {},
   "source": [
    "##### <div class=\"alert alert-block alert-success\"> Introduction </div>\n",
    "\n",
    "As discussed in Chapter 1, there is an abundance of data available for our local region and the world at large. Knowing how to analyze that data and then represent it in a useful way for others to understand it and make conclusions is the focus of this chapter. Consider the video below regarding the population sizes of various cities in the state of Alabama over time. \n",
    "\n",
    "[![Video: Alabama Populations](https://www.youtube.com/watch?v=L2xPb__ZoWo)](https://www.youtube.com/watch?v=L2xPb__ZoWo)\n",
    "\n",
    "\n",
    "\n",
    "\n",
    "\n",
    "By the end of this chapter, you will have the skills to create graphs to represent different datasets in our local region and to make conclusions of your own.\n"
   ]
  },
  {
   "cell_type": "markdown",
   "id": "b5fb6a06",
   "metadata": {},
   "source": [
    "<div class=\"alert alert-block alert-danger\">\n",
    "    <b>Application in Birmingham from Area of History </b>\n",
    "</div>\n",
    "\n",
    "As a further motivation for this chapter, consider the video below from Dr. Jonathan Wiesen from the Department of History here at UAB. He dives into a variety of historical contexts in which he utilizes data visualization to communicate trends in the values of different variables related to armament (military weapons and equipment), slavery, wealth share, country independence, birth rates, and more! \n",
    "\n",
    "\n",
    "[![Video: UAB Department of History Data Visualization](https://youtu.be/FhoPvrbRw5g)](https://youtu.be/FhoPvrbRw5g)\n"
   ]
  },
  {
   "cell_type": "markdown",
   "id": "a4551389-5dd1-40c7-bb90-703d77d5f06a",
   "metadata": {
    "tags": []
   },
   "source": [
    "### Variables and Descriptive Statistics"
   ]
  },
  {
   "cell_type": "markdown",
   "id": "6a54bb4c-b454-4956-8be7-24b6c4809554",
   "metadata": {
    "tags": []
   },
   "source": [
    "##### <div class=\"alert alert-block alert-success\"> Types of Variables for Statistical Studies </div>\n",
    "\n",
    "* A __variable__ is a characteristic of a study subject that can be observed or measured. \n",
    "* A __quantiative variable__ is a variable that has observations with numerical values on which meaningful mathematical operations can be performed.\n",
    "* A __categorical variable__ is a variable that describes a study subject as being in a particular category or group.\n",
    "\n",
    "\n",
    "A quantitative variable can be further distinguished between two types of variables: \n",
    "* If the possible values of the quantiative variable <u>form an interval</u>, then it is called a __continuous quantitative variable__. \n",
    "* If the possible values of a quantitative variable can only be a <u>set of specific numeric values</u>, then it is called a __discrete quantitative variable__. "
   ]
  },
  {
   "cell_type": "markdown",
   "id": "eeff45ea",
   "metadata": {},
   "source": [
    "<div class=\"alert alert-block alert-danger\"><b>Local Example:</b> Variables in Birmingham</div>\n",
    "\n",
    "Continuous Quantitative: Temperature of iron ore at Sloss Furnaces <br>\n",
    "Discrete Quantitative: Number of daily visitors to Vulcan Park and Museum <br>\n",
    "Categorical: Types of businesses in Birmingham (e.g. nonprofit, governmental, financial, restaurants) \n"
   ]
  },
  {
   "cell_type": "markdown",
   "id": "0e48e8cd-0976-4452-9c02-f8b9090bf097",
   "metadata": {},
   "source": [
    "<div class=\"alert alert-block alert-danger\"><b>Local Student Practice: </b> Variables in Birmingham</div>\n",
    "\n",
    "Classify the variables below as one of the following: continuous quantitative, discrete quantitative, or categorical.\n",
    "\n",
    "1. Count of daily morning walkers at Railroad Park  \n",
    "2. Average July temperatures in Birmingham \n",
    "3. Hair color of UAB students \n",
    "4. Country of origin for Birmingham residents  \n",
    "5. Number of courses UAB students enroll in each fall \n",
    "6. Molecule weights in chemistry lab \n",
    "7. Major for UAB students \n",
    "8. Birth year of UAB professors \n",
    "9. Age of UAB professors \n",
    "10. True/False on an English exam \n",
    "11. Time of sunset (viewing from Ruffner Mountain)\n",
    "12. Visitor names at Sloss Furnances \n",
    "\n",
    "\n",
    "\n",
    "\n"
   ]
  },
  {
   "cell_type": "markdown",
   "id": "6decc0cd",
   "metadata": {},
   "source": [
    "##### Your answer:\n",
    "Continuous Quantitative:  \n",
    "\n"
   ]
  },
  {
   "cell_type": "markdown",
   "id": "7942503c-7338-4ab8-a85f-197762e60f08",
   "metadata": {},
   "source": [
    "Discrete Quantitative:"
   ]
  },
  {
   "cell_type": "markdown",
   "id": "48ece299-5820-4e29-8d7b-e4fb6750f533",
   "metadata": {},
   "source": [
    "Categorical:  "
   ]
  },
  {
   "cell_type": "markdown",
   "id": "dfc16bd9-28b6-477b-8d41-d5e808f59f55",
   "metadata": {},
   "source": [
    "##### <div class=\"alert alert-block alert-success\">Statistics for Individual <ins>Quantitative</ins> Variables (Univariate Statistics) </div>\n",
    "\n",
    "For the following definitions, let $n$ represent the sample size, $N$ the population size, and $x$ the individual data points (observations).\n",
    "\n",
    "##### Measures of center: \n",
    "* The __mean__ is the sum of the observations divided by the number of observations. (Another word for this is the average). \n",
    "    \\begin{equation}\n",
    "    \\text{Sample mean: }\\bar{x}=\\frac{1}{n}\\sum_{i=1}^n x_i, \\\\\n",
    "    \\text{Population mean: } \\mu=\\frac{1}{N}\\sum_{i=1}^N x_i.\n",
    "    \\end{equation}\n",
    "    \n",
    "A weighted mean accounts for variations in the relative importance of data values. Each data value $x_i$ is assigned a weight $w_i$ and the weighted mean is \n",
    "    \\begin{equation}\n",
    "    \\frac{\\sum_{i=1}^n w_i\\cdot x_i}{\\sum_{i=1}^n w_i}\n",
    "    \\end{equation}\n",
    "    \n",
    "\n",
    "* The __median__ is the middle value of the observations when the observations are ordered from the smallest to the largest. \n",
    "\n",
    "##### Measures of variability: \n",
    "* The __standard deviation__ is a measure of the dispersion of the data from the mean and is the square root of the __variance__. \n",
    "\\begin{equation}\n",
    "\\text{Sample standard deviation: }s=\\sqrt{\\frac{1}{n-1}\\sum_{i=1}^n (x_i-\\bar{x})^2} \\\\\n",
    "\\text{Population standard deviation: } \\sigma=\\sqrt{\\frac{1}{N}\\sum_{i=1}^N (x_i-\\mu)^2}.\n",
    "\\end{equation}\n",
    "\n",
    "Note: The standard deviation is approximately one quarter of the range of the distribution. \n",
    "\n",
    "\n",
    "* The __range__ is the difference between the largest and smallest observations. \n",
    "* The __interquartile range__ is the distance between the first and third quartiles. To find __Quartiles__: arrange the data in order; the median is the __second quartile, Q2__; the median of the lower half of data is called the __first quartile, Q1__; and the median of the upper half of the data is called the __third quartile, Q3__.  \n",
    "\n",
    "\n",
    "\n",
    "    \n",
    "##### Measure of Frequency:\n",
    "* The __mode__ is the value that occurs most frequently in a set of observations. \n",
    "\n",
    "    \n",
    "    \n",
    "\n"
   ]
  },
  {
   "cell_type": "markdown",
   "id": "9598c1cb-bfee-403c-a0d2-f7774fac125d",
   "metadata": {},
   "source": [
    "<div class=\"alert alert-block alert-danger\">\n",
    "<b>Student Practice</b>: Novels Most Widely Held in Libraries Worldwide\n",
    "</div>\n",
    "\n",
    "Last class we discussed the importance of having context and humanizing data points to the best of one's ability. The following dataset from the OCLC, a library organization in over 100 countries, gives detailed information on the 500 novels most widely held in libraries. The data collected includes author biographies, novel specifics, online holdings info, and online popularity of the novels: https://www.responsible-datasets-in-context.com/posts/top-500-novels/top-500-novels.html?tab=data-essay. \n",
    "\n",
    "1. Calculate the mean Goodreads rating for the top 10 most widely held novels by libraries.\n",
    "\n",
    "2. Calculate the standard deviation of the Goodreads average ratings for the top 10 most widely held novels by libraries. \n",
    "\n",
    "3. What is the median publication year for the top 10 most widely held novels by libraries?\n",
    "\n",
    "4. What is the range of total physical library holdings for the top 10 most widely held novels by libraries? \n",
    "\n",
    "5. What is the mode for the author birth year for the top 10 most widely held novels by libraries? \n",
    "\n",
    "6. For the top 10 most widely held novels by libraries, determine the quartiles for the year of death of the author. \n",
    "\n",
    "7.  For the top 10 most widely held novels by libraries, calculate the interquartile range. \n",
    "\n",
    "We will reflect on your process after a few moments. \n"
   ]
  },
  {
   "cell_type": "markdown",
   "id": "d5de0c37",
   "metadata": {},
   "source": [
    "##### Your answer:"
   ]
  },
  {
   "cell_type": "markdown",
   "id": "f9822f36",
   "metadata": {},
   "source": [
    "##### Further Definitions:\n",
    "\n",
    "* The __margin of error__ is the measure of the expected variability from one random sample to the next, calculated by $\\frac{1}{\\sqrt{n}}\\times 100\\%$.\n",
    "\n",
    "* A __five number summary__ is a way to summarize a dataset using the following five values:\n",
    "\n",
    "    The minimum<br>\n",
    "    The first quartile<br>\n",
    "    The median<br>\n",
    "    The third quartile<br>\n",
    "    The maximum<br> \n",
    "    <br>\n",
    "    \n",
    "    \n",
    "* An __outlier__ is an observation that falls well above or well below the overall bulk of the data \n",
    "\n",
    "Note:</br>\n",
    "-Later we will see that an observation in a bell-shaped distribution is regarded as a potential outlier if it falls more than three standard deviations away from the mean ($\\bar{x}\\pm 3s$) and is called the __Standard Deviation Criterion__. </br>\n",
    "    \n",
    "-The __Interquartile Range (IQR) Criterion__ is helpful for identifying potential outliers: An observation is a potential outlier if it falls a distance of more than 1.5 $\\times IQR$ below the first quartile or a distance of more than 1.5 $\\times IQR$ above the third quartile. \n",
    "\n",
    "    "
   ]
  },
  {
   "cell_type": "markdown",
   "id": "7d382534",
   "metadata": {},
   "source": [
    "<div class=\"alert alert-block alert-warning\">\n",
    "    <b></b> Distributions and Comparing the Mean and Median for a Quantitative Variable\n",
    "</div>\n",
    "\n",
    "* A __distribution__ of a variable describes how the observations (data points) fall across the range of possible values. \n",
    "\n",
    "* A __density curve__ is a continuous curve drawn to visualize the underlying probability distribution of the data. (It gives an idealized overall picture of the data while allowing minor irregularities to be \"ignored.\") \n",
    "\n",
    "Notes: <br>\n",
    "-The mean of a density curve is the balance point, at which the curve would balance if made of solid material. <br>\n",
    "-The median of a density curve is the equal-areas point, the point that divides the area under the curve in half. <br>\n",
    "-If a distribution is highly skewed to the left or right (i.e. the bulk of the data is on one end or the other), the median is preferred over the mean. </br>\n",
    "-If a distribution is close to symmetric or only mildly skewed, the mean is preferred over the median. "
   ]
  },
  {
   "attachments": {
    "3818d037-9d55-48c5-8adc-2b8b523f54cd.png": {
     "image/png": "[encoded data removed]"
    }
   },
   "cell_type": "markdown",
   "id": "8b4a6f45-6afb-4c20-a39b-4364d0508409",
   "metadata": {
    "tags": []
   },
   "source": [
    "![image.png](attachment:3818d037-9d55-48c5-8adc-2b8b523f54cd.png)\n"
   ]
  },
  {
   "cell_type": "markdown",
   "id": "e729dac3",
   "metadata": {},
   "source": [
    "<div class=\"alert alert-block alert-danger\">\n",
    "<b>Example</b>: Novels Most Widely Held in Libraries Worldwide\n",
    "</div>\n",
    "\n",
    "Consider the distribution for the top 500 most widely held novels in libraries and the timeframe they were published in the \"Examining Bias\" section of https://www.responsible-datasets-in-context.com/posts/top-500-novels/top-500-novels.html?tab=data-essay. \n",
    "\n",
    "\n",
    "What skew does this distribution have? \n",
    "\n",
    "<p align=\"center\">\n",
    "    <img src=\"pics/skewed_left.png\" alt=\"Figure 1\" style=\"width:45%;\"/>\n",
    "</p>"
   ]
  },
  {
   "cell_type": "markdown",
   "id": "08e8d11f",
   "metadata": {},
   "source": [
    "##### <div class=\"alert alert-block alert-success\">Statistics for Individual <ins>Categorical</ins> Variables (Univariate Statistics)</div>\n",
    "\n",
    "* The __proportion__ is the fraction of observations that hold a certain categorical characteristic. \n",
    "\n",
    "##### Measure of Frequency:\n",
    "* The __mode__ is the category that occurs most frequently in a set of observations. \n"
   ]
  },
  {
   "cell_type": "markdown",
   "id": "71d7dd58",
   "metadata": {},
   "source": [
    "<div class=\"alert alert-block alert-danger\"><b>Example</b>: Novels Most Widely Held in Libraries Worldwide </div>\n",
    "\n",
    "Refer back to the top 500 novels most widely held by libraries dataset: https://www.responsible-datasets-in-context.com/posts/top-500-novels/top-500-novels.html?tab=data-essay.\n",
    "\n",
    "1. What proportion of the top 10 novels most widely held in libraries were originally written in Spanish?\n",
    "2. What is the mode for author nationality in the top 10 novels most widely held in libraries? \n"
   ]
  },
  {
   "cell_type": "markdown",
   "id": "f36ff045",
   "metadata": {},
   "source": [
    "##### Your answer:"
   ]
  },
  {
   "cell_type": "markdown",
   "id": "0051938f-5a40-4b41-93bf-8f69653d5b87",
   "metadata": {},
   "source": [
    "### Data Visualization Techniques "
   ]
  },
  {
   "cell_type": "markdown",
   "id": "d1e962a3",
   "metadata": {},
   "source": [
    "Let's take a look at a variety of data visualizations, some quantitative and some categorical."
   ]
  },
  {
   "cell_type": "markdown",
   "id": "5077d26c-1743-40b4-8e48-f6dedab114be",
   "metadata": {},
   "source": [
    "##### <div class=\"alert alert-block alert-success\"><ins>Quantiative</ins> Data Visualization</div>\n",
    "\n",
    "* Histogram\n",
    "* Scatter Plot\n",
    "* Box Plot (or Box-and-Whiskers Plot)\n",
    "* Time Series\n",
    "* Stem-and-Leaf Plot\n",
    "* Dot Plot\n",
    "* Density Functions"
   ]
  },
  {
   "cell_type": "markdown",
   "id": "71e765e7",
   "metadata": {},
   "source": [
    "<p align=\"center\">\n",
    "    <img src=\"pics/histogram.png\" alt=\"Figure 1\" style=\"width:70%;\"/>\n",
    "</p>\n",
    "\n",
    "<p align=\"center\">\n",
    "    <img src=\"pics/scatterplot.png\" alt=\"Figure 2\" style=\"width:70%;\"/>\n",
    "</p>\n",
    "\n",
    "<p align=\"center\">\n",
    "    <img src=\"pics/scatterplot2.png\" alt=\"Figure 3\" style=\"width:70%;\"/>\n",
    "</p>\n",
    "\n",
    "<p align=\"center\">\n",
    "    <img src=\"pics/boxandwhiskers.png\" alt=\"Figure 4\" style=\"width:70%;\"/>\n",
    "</p>\n",
    "\n",
    "<p align=\"center\">\n",
    "    <img src=\"pics/timeseries.png\" alt=\"Figure 5\" style=\"width:100%;\"/>\n",
    "</p>\n",
    "\n",
    "<p align=\"center\">\n",
    "    <img src=\"pics/stemandleaf.png\" alt=\"Figure 6\" style=\"width:70%;\"/>\n",
    "</p>\n",
    "\n",
    "<p align=\"center\">\n",
    "    <img src=\"pics/dotplot.png\" alt=\"Figure 7\" style=\"width:70%;\"/>\n",
    "</p>\n",
    "\n",
    "<p align=\"center\">\n",
    "    <img src=\"pics/densityfunctions.png\" alt=\"Figure 8\" style=\"width:70%;\"/>\n",
    "</p>"
   ]
  },
  {
   "cell_type": "markdown",
   "id": "eb350304",
   "metadata": {},
   "source": [
    "<div class=\"alert alert-block alert-danger\">\n",
    "<b>Local Student Practice: Birmingham Data Visualizations </b>\n",
    "</div>\n",
    "\n",
    "Identify the following data visualizations as one of the above categories: \n",
    "\n",
    "Birmingham Airport and Hotel Occupancy (page 6 on https://downtownbhm.com/wp-content/uploads/2024/04/Q3-Q4-2023-Data-Report-FINAL-1.pdf)\n",
    "\n",
    "Age Distribution of Downtown Residents (...if we were to put the bars together and re-label the axes) (page 17 on https://downtownbhm.com/wp-content/uploads/2024/04/Q3-Q4-2023-Data-Report-FINAL-1.pdf)\n",
    "\n",
    "\n",
    "\n"
   ]
  },
  {
   "cell_type": "markdown",
   "id": "0c389aea",
   "metadata": {},
   "source": [
    " ##### <div class=\"alert alert-block alert-success\"><ins>Categorical</ins> Data Visualization</div>\n",
    " \n",
    "* Bar Graph\n",
    "* Pareto Chart\n",
    "* Pie Chart\n",
    "\n",
    "\n",
    "\n",
    "\n"
   ]
  },
  {
   "cell_type": "markdown",
   "id": "aea43e11",
   "metadata": {},
   "source": [
    "<p align=\"center\">\n",
    "    <img src=\"pics/bargraph.png\" alt=\"Figure 1\" style=\"width:70%;\"/>\n",
    "</p>\n",
    "\n",
    "<p align=\"center\">\n",
    "    <img src=\"pics/bargraph2.png\" alt=\"Figure 2\" style=\"width:70%;\"/>\n",
    "</p>\n",
    "\n",
    "<p align=\"center\">\n",
    "    <img src=\"pics/sidebysidebargraph.png\" alt=\"Figure 3\" style=\"width:70%;\"/>\n",
    "</p>\n",
    "\n",
    "<p align=\"center\">\n",
    "    <img src=\"pics/splitstackbargraph.png\" alt=\"Figure 4\" style=\"width:70%;\"/>\n",
    "</p>\n",
    "\n",
    "<p align=\"center\">\n",
    "    <img src=\"pics/paretochart.png\" alt=\"Figure 5\" style=\"width:70%;\"/>\n",
    "</p>\n",
    "\n",
    "<p align=\"center\">\n",
    "    <img src=\"pics/piechart.png\" alt=\"Figure 6\" style=\"width:70%;\"/>\n",
    "</p>\n",
    "\n",
    "<p align=\"center\">\n",
    "    <img src=\"pics/piechart2.png\" alt=\"Figure 7\" style=\"width:70%;\"/>\n",
    "</p>"
   ]
  },
  {
   "cell_type": "markdown",
   "id": "367bc360",
   "metadata": {},
   "source": [
    "<div class=\"alert alert-block alert-danger\"><b>Local Student Practice</b>:  Birmingham Data Visualizations  </div>\n",
    "\n",
    "\n",
    "Identify the following data visualizations as one of the above categories: \n",
    "\n",
    "Monthly Employee Visits (page 4 on https://downtownbhm.com/wp-content/uploads/2024/04/Q3-Q4-2023-Data-Report-FINAL-1.pdf)\n",
    "\n",
    "Racial Makeup of Downtown Residents (page 17 on https://downtownbhm.com/wp-content/uploads/2024/04/Q3-Q4-2023-Data-Report-FINAL-1.pdf)\n",
    "\n",
    "U.S. vs Birmingham, AL Foreign-Born \\% (https://datausa.io/profile/geo/birmingham-al/)\n",
    "\n",
    "Awarded Degrees Over Time - graph on left (https://datausa.io/profile/geo/birmingham-al/)\n",
    "\n",
    "Average Net Price by Sector (https://datausa.io/profile/geo/birmingham-al/)\n",
    "\n",
    "Median Earnings by Industry / Gender (https://datausa.io/profile/geo/birmingham-al/)\n",
    "\n"
   ]
  },
  {
   "cell_type": "markdown",
   "id": "e63ef4c7",
   "metadata": {},
   "source": [
    "<div class=\"alert alert-block alert-danger\">\n",
    "    <b>Local Student Practice: </b> City of Birmingham Fiscal Year Visualizations\n",
    "</div>\n",
    "\n",
    "Take a look around the following website for information on the City of Birmingham's annual fiscal (financial) reports. \n",
    "\n",
    "https://birminghamal.opengov.com/transparency/#/22078/accountType=expenses&embed=n&breakdown=67161fe1-9b6b-4735-b6b7-e848f1d44237&currentYearAmount=cumulative&currentYearPeriod=years&graph=percentage&legendSort=coa&proration=true&saved_view=null&selection=C53CDC200C9444356C8CEAB4F78F24F8&projections=null&projectionType=null&highlighting=null&highlightingVariance=null&year=2024&selectedDataSetIndex=null&fiscal_start=earliest&fiscal_end=latest\n",
    "\n",
    "1. What different types of data visualizations do they offer to represent the various reports?\n",
    "2. Write two conclusions that you made about the City of Birmingham from analyzing these figures. \n",
    "\n",
    "We will revisit this website in a future chapter to dive deeper into the communication of results using data visualization. \n"
   ]
  },
  {
   "cell_type": "markdown",
   "id": "4a98cf1a",
   "metadata": {},
   "source": [
    "##### Your answer:"
   ]
  },
  {
   "cell_type": "markdown",
   "id": "c66c6043",
   "metadata": {},
   "source": [
    "<div class=\"alert alert-block alert-danger\">\n",
    "    <b>Local Student Practice: </b> Alabama City Populations\n",
    "</div>\n",
    "\n",
    "Consider the video from the introduction of this chapter (given again below). What type of data visualization method (type of graph) is used in this video? \n",
    "\n",
    "[![Some Sample Video Link](https://i.ytimg.com/vi/L2xPb__ZoWo/hq720.jpg?sqp=-oaymwEjCOgCEMoBSFryq4qpAxUIARUAAAAAGAElAADIQj0AgKJDeAE=&rs=AOn4CLAKi29tEJRWAho6rZybYwOcXSXVTQ)](https://www.youtube.com/watch?v=L2xPb__ZoWo)"
   ]
  },
  {
   "cell_type": "markdown",
   "id": "1fa3f5d4",
   "metadata": {},
   "source": [
    "##### Your answer:"
   ]
  },
  {
   "cell_type": "markdown",
   "id": "01ce81c3-5c83-48e4-b02e-efc2652cf8a2",
   "metadata": {},
   "source": [
    "### Sampling Methods"
   ]
  },
  {
   "cell_type": "markdown",
   "id": "0075fad5",
   "metadata": {},
   "source": [
    "##### <div class=\"alert alert-block alert-warning\">Proper and Improper Sampling</div>\n"
   ]
  },
  {
   "cell_type": "markdown",
   "id": "be6a49aa",
   "metadata": {},
   "source": [
    "It is important to select samples in ways that are likely to reflect the actual population. \n",
    "\n",
    "Proper ways of sampling: \n",
    "* A __simple random sample__ (or __random sample__) of $n$ subjects from a population is one in which each possible sample of that size has the same chance of being selected. \n",
    "\n",
    "Improper ways of sampling: \n",
    "* __Convenience sampling__: choosing a sample because it is convenient (e.g. time, location, people the surveyors want to approach for the survey) and is most likely not a random sample\n",
    "* __Volunteer sampling__: individuals volunteer to participate so there may be some parts of the population more likely to participate than others \n",
    "\n",
    "\n",
    "However, $\\textit{even if}$ a sample is taken properly, there can still be __bias__ in which some outcomes are more or less likely to show up than others even though that may not be representiative of what is actually occuring in the population. Examples:\n",
    "\n",
    "* __Sampling bias__: occurs when a sample is not taken randomly (__nonrandom sample__) or when a sample that is taken is not representative of different parts of a population (__undercoverage__).\n",
    "* __Nonresponse bias__: occurs when subjects cannot be reached or refuse to participate (or may not respond to some questions which results in __missing data__) \n",
    "* __Response bias__: occurs when when the subject gives untruthful responses (e.g. due to what they think the interviewer wants to hear or because it's more socially acceptable), or when the questions are asked in a confusing or misleading way to encourage subjects to respond in a certain way.\n",
    "\n",
    "\n",
    "Note: In general, large sample sizes are better than smaller; however, if a sample exhibits one or more of the above biases, then it does not give a more accurate result and it would have been better to stick to a smaller sample that was taken properly.\n"
   ]
  },
  {
   "cell_type": "markdown",
   "id": "ac79a58f",
   "metadata": {},
   "source": [
    "<div class=\"alert alert-block alert-danger\">\n",
    "    <b>Local Student Practice: </b> Survey Design Bias\n",
    "</div>\n",
    "\n",
    "1) I want to take a survey of the population of Birmingham and do a random digit dialing of cell phones. What type of bias does this sampling design exhibit?  \n",
    "\n",
    "2) Due to the strong emotions that a survey regarding political issues evokes for a portion of the sample, those individuals decide not to participate in the study. What type of bias does this sampling design exhibit? \n",
    "\n",
    "3) UAB would like to do a study on drug use for students on campus. Some students are fearful of their identity being attached to their answers and so they do not answer honestly.  What type of bias does this sampling design exhibit? \n",
    "\n",
    "4) Researchers in Birmingham want to look at the traffic across the city. At each day at 5pm, they go to one spot on Highway 280 and count the number of cars passing by to obtain their data.  What type of bias does this sampling design exhibit? "
   ]
  },
  {
   "cell_type": "markdown",
   "id": "9b402d2f",
   "metadata": {},
   "source": [
    "##### Your answer:\n"
   ]
  },
  {
   "cell_type": "code",
   "execution_count": null,
   "id": "fedb8a20",
   "metadata": {},
   "outputs": [],
   "source": []
  }
 ],
 "metadata": {
  "kernelspec": {
   "display_name": "R",
   "language": "R",
   "name": "ir"
  },
  "language_info": {
   "codemirror_mode": "r",
   "file_extension": ".r",
   "mimetype": "text/x-r-source",
   "name": "R",
   "pygments_lexer": "r",
   "version": "4.3.1"
  }
 },
 "nbformat": 4,
 "nbformat_minor": 5
}
