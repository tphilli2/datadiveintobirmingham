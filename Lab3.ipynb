{
 "cells": [
  {
   "cell_type": "markdown",
   "id": "c9d9b548-d13b-474e-b4c7-560cc0cc8984",
   "metadata": {
    "tags": []
   },
   "source": [
    "## Lab 3: R in Probability and Distributions\n",
    "#### MA 189 Data Dive Into Birmingham (with R)\n",
    "##### _Blazer Core: City as Classroom_\n",
    "\n",
    "\n",
    "Course Website: [github.com/tphilli2/datadiveintobirmingham](https://github.com/tphilli2/datadiveintobirmingham) "
   ]
  },
  {
   "cell_type": "markdown",
   "id": "bdb8fe6d-44b0-4ca7-8c88-91109d476fce",
   "metadata": {
    "tags": []
   },
   "source": [
    "#### Levels:\n",
    "<div class=\"alert-success\"> Concepts and general information</div>\n",
    "<div class=\"alert-warning\"> Important methods and technique details </div>\n",
    "<div class=\"alert-info\"> Extended reading </div>\n",
    "<div class=\"alert-danger\"> (Local) Examples, assignments, and <b>Practice in Birmingham</b> </div>"
   ]
  },
  {
   "cell_type": "markdown",
   "id": "fbf228bb-ce89-4297-9022-926516594a29",
   "metadata": {},
   "source": [
    "In this lab, we will work with probability and distribution concepts using R. We will cover calculating probabilities for different events, explore basic probability distributions, and visualize them using R.\n",
    "\n",
    "---"
   ]
  },
  {
   "cell_type": "markdown",
   "id": "8b62216d-c336-41f3-8e39-534c8642f79a",
   "metadata": {},
   "source": [
    "### <div class=\"alert alert-block alert-danger\"><b>Example</b>: Alabama Home Values</div>\n",
    "\n",
    "In April 2024, the average home value in Alabama was \\\\$228,241, with a standard deviation of \\\\$20,000. Assume the dataset follows a normal distribution. Let’s calculate probabilities and visualize this data.\n",
    "\n",
    "**Question 1:** What percentage of homes are worth more than \\\\$250,000?\n",
    "\n",
    "**Step 1: Calculate the probability of a home being worth more than \\\\$250,000**\n"
   ]
  },
  {
   "cell_type": "code",
   "execution_count": null,
   "id": "eef7a884-d93e-4395-a812-826e2066e2f9",
   "metadata": {},
   "outputs": [],
   "source": [
    "# Define the mean and standard deviation for home values\n",
    "mean_home_value <- 228241\n",
    "sd_home_value <- 20000\n",
    "\n",
    "# Calculate the probability of a home being worth more than $250,000\n",
    "P_more_than_250k <- 1 - pnorm(250000, mean = mean_home_value, sd = sd_home_value)\n",
    "P_more_than_250k  # This gives the percentage of homes worth more than $250,000\n"
   ]
  },
  {
   "cell_type": "markdown",
   "id": "00afeb4f-f2b8-4093-bb47-94f0d6c6ac28",
   "metadata": {},
   "source": [
    "**Question 2:** What is the probability of a home value being between \\\\$200,000 and \\\\$250,000?\n",
    "\n",
    "**Step 2: Calculate the probability of a home value being in a certain range**\n"
   ]
  },
  {
   "cell_type": "code",
   "execution_count": null,
   "id": "7ff48a5a-5d8e-48d8-810d-3087609fec2d",
   "metadata": {},
   "outputs": [],
   "source": [
    "# Calculate the probability of a home value between $200,000 and $250,000\n",
    "P_between_200k_250k <- pnorm(250000, mean = mean_home_value, sd = sd_home_value) - \n",
    "pnorm(200000, mean = mean_home_value, sd = sd_home_value)\n",
    "P_between_200k_250k  # This gives the probability of home value falling in this range"
   ]
  },
  {
   "cell_type": "markdown",
   "id": "7ee176f3-51d0-40ef-9b88-43e2562ab7ee",
   "metadata": {},
   "source": [
    "**Question 3:** Find the minimum home value for the top 10% of homes.\n",
    "\n",
    "**Step 3: Calculate the value corresponding to the 90th percentile of home values**\n"
   ]
  },
  {
   "cell_type": "code",
   "execution_count": null,
   "id": "7b2ac8ac-3617-4809-b81a-0df06ff1b44d",
   "metadata": {},
   "outputs": [],
   "source": [
    "# Calculate the 90th percentile value (top 10% of home values)\n",
    "top_10_percent_value <- qnorm(0.90, mean = mean_home_value, sd = sd_home_value)\n",
    "top_10_percent_value  # This is the minimum value for the top 10% of homes"
   ]
  },
  {
   "cell_type": "markdown",
   "id": "f14ca024-7acb-46c0-8966-d804475e6f73",
   "metadata": {},
   "source": [
    "---\n",
    "### <div class=\"alert alert-block alert-danger\"><b>Example</b>: ACT Scores for Incoming Students at UAB</div>\n",
    "\n",
    "Recall the information from the lecture regarding ACT scores being normally distributed. Assume an average national ACT score of 20.8 with a standard deviation of 5.8.\n",
    "\n",
    "**Question 4:** A student earns an ACT score of 26.5 to improve their chances of UAB scholarships. What percentile are they in?\n"
   ]
  },
  {
   "cell_type": "code",
   "execution_count": null,
   "id": "d00858f5-d838-4c7d-8ebb-4f20f78730ad",
   "metadata": {},
   "outputs": [],
   "source": [
    "# Define the mean and standard deviation for ACT scores\n",
    "mean_ACT <- 20.8\n",
    "sd_ACT <- 5.8\n",
    "\n",
    "# Calculate the percentile for a score of 26.5\n",
    "percentile_26_5 <- pnorm(26.5, mean = mean_ACT, sd = sd_ACT)\n",
    "percentile_26_5 \n",
    "floor(percentile_26_5 * 100) # This gives the percentile rank of the student"
   ]
  },
  {
   "cell_type": "markdown",
   "id": "4bc2dbd6-16c9-4447-a133-0b73d885585f",
   "metadata": {},
   "source": [
    "**Question 5:** What percentile would a student earning the average Alabama ACT score of 18 be in?"
   ]
  },
  {
   "cell_type": "code",
   "execution_count": null,
   "id": "8a37edb3-f3da-4898-855a-00a9bca498d6",
   "metadata": {},
   "outputs": [],
   "source": [
    "# Calculate the percentile for a score of 18 (Alabama's average ACT score)\n",
    "percentile_18 <- pnorm(18, mean = mean_ACT, sd = sd_ACT)\n",
    "percentile_18 \n",
    "floor(percentile_18 * 100)# This gives the percentile rank of a student with an ACT score of 18"
   ]
  },
  {
   "cell_type": "markdown",
   "id": "eb2b9d1a-9666-4ee9-933b-0c2f8a270345",
   "metadata": {},
   "source": [
    "**Question 6:** What ACT scores make up the middle 68% of the normal distribution?\n",
    "\n",
    "**Step 4: Calculate the range for the middle 68% using 1 standard deviation from the mean**"
   ]
  },
  {
   "cell_type": "code",
   "execution_count": null,
   "id": "a28d31d2-e044-423a-a282-e31a1eea61a1",
   "metadata": {},
   "outputs": [],
   "source": [
    "# Calculate the lower and upper bounds of the middle 68% (within 1 standard deviation)\n",
    "lower_bound <- mean_ACT - sd_ACT\n",
    "upper_bound <- mean_ACT + sd_ACT\n",
    "c(lower_bound, upper_bound)  # This gives the range of ACT scores for the middle 68%"
   ]
  },
  {
   "cell_type": "markdown",
   "id": "df4ecc04-e276-4a85-883f-a1064406ef2a",
   "metadata": {},
   "source": [
    "**Question 7:** A student scores 29 on their ACT. What percentile are they in?"
   ]
  },
  {
   "cell_type": "code",
   "execution_count": null,
   "id": "09f6f19b-8fb7-4de5-a422-bb342af8b708",
   "metadata": {},
   "outputs": [],
   "source": []
  },
  {
   "cell_type": "markdown",
   "id": "2d220be7-cd14-4b75-8665-12975cbe9679",
   "metadata": {},
   "source": [
    "### <div class=\"alert alert-block alert-danger\"><b>Example</b>: Alabama Teacher Salaries </div>\n",
    "\n",
    "**Question 8:** In April 2024, the average teacher salary in Alabama was \\\\$53,572. Assume a standard deviation of \\\\$10,000 and assume salaries follow a normal distribution:\n",
    "- What percentage of teachers earn more than $60,000?\n",
    "- What is the probability that a teacher’s salary is between \\\\$50,000 and \\\\$60,000?"
   ]
  },
  {
   "cell_type": "code",
   "execution_count": null,
   "id": "28708934",
   "metadata": {},
   "outputs": [],
   "source": []
  },
  {
   "cell_type": "markdown",
   "id": "d9717617-a96d-4e30-aaba-5bd78cf9f877",
   "metadata": {},
   "source": [
    "*Hints:*\n",
    "- Use `pnorm()` to calculate the probabilities for normal distributions. (input is value, output is cumulative probablility/area)\n",
    "- Use `qnorm()` to find the percentile values. (input is cumulative probability/area, output is value)"
   ]
  },
  {
   "cell_type": "markdown",
   "id": "0eb346d7-d728-41df-b2f5-023b3819a85f",
   "metadata": {},
   "source": [
    "---"
   ]
  },
  {
   "cell_type": "markdown",
   "id": "b2139c3a-59db-42c7-8d5f-d6849fe3271f",
   "metadata": {},
   "source": [
    "### <div class=\"alert alert-block alert-danger\"><b>Practice in Birmingham</b></div>\n",
    "\n",
    "Note: This problem focuses more on the skills we learned in Lab 2 as further practice of that material. We will continue to work with the material that was presented here in Lab 3 throughout the term. \n",
    "\n",
    "Consider the data set provided by Alabama Power Company. Alabama Power’s incremental cost of generating electricity is monitored using the **system marginal cost**, also known as **system lambda**. Lambda represents the incremental cost of generating one more unit (megawatt-hour) of electricity. In a typical year (non-leap year), there are **8760 hours**; thus, this industry often refers to the “**8760 lambdas**.” As a general rule, generating units that run to help meet peak energy usage on the system are incrementally more expensive to run than baseload plants (those plants that run in both peak and off-peak times).\n",
    "\n",
    "**Data**: Use the **Lambdas and RTP Customer Loads** excel data set for analysis."
   ]
  },
  {
   "cell_type": "markdown",
   "id": "2ed7123b-5cd6-4764-aad5-1164ee6a3471",
   "metadata": {},
   "source": [
    "**Question 1:** Calculate what the average cost was (in dollars per megawatt-hour) for generating electricity from 12am-6am in the year 2018. What about from 6am-12pm in 2018? What conclusion might you make from this comparison?\n",
    "\n",
    "**Hints:**\n",
    "To calculate the average cost (in dollars per megawatt-hour) for generating electricity during specific time periods (e.g., 12am-6am and 6am-12pm) in 2018, you can follow the steps below. We'll first merge the relevant hourly columns for each time period and then calculate the averages.\n",
    "\n",
    "**Question 2:** Calculate the average cost for generating electricity from 12am-6am and from 6am-12pm in the year 2020. What conclusion might you make from this comparison?"
   ]
  },
  {
   "cell_type": "markdown",
   "id": "f1276609-66f3-42b3-b38e-aa2ce8271743",
   "metadata": {},
   "source": [
    "---\n",
    "### Example R Code for Data Import and Analysis:"
   ]
  },
  {
   "cell_type": "code",
   "execution_count": null,
   "id": "810102f8-cf12-42c0-9e74-129a642cd5e8",
   "metadata": {},
   "outputs": [],
   "source": [
    "# load necessary libraries \n",
    "install.packages(\"tidyverse\")\n",
    "library (tidyverse)\n",
    "\n",
    "# installing package to read Excel file\n",
    "if (!require(readxl)) {\n",
    "    install.packages(\"readxl\")\n",
    "    library(readxl)\n",
    "}\n",
    "\n",
    "# Define the path to the Excel file\n",
    "file_path <- \"data/Lambdas and RTP Customer Loads.xlsx\"\n",
    "\n",
    "# Read the Excel file from the \"data\" subfolder, skipping reading first two rows\n",
    "lambda_data_2018 <- read_excel(file_path, sheet = \"2018 Lambdas\", skip=2)\n",
    "\n",
    "lambda_data #gives a lot of the data, with some dots in the middle \n",
    "head(lambda_data_2018) #gives a snapshot of first six rows of data\n",
    "\n",
    "# Reshape the dataset: Merging hourly columns into a single column\n",
    "data_long <- lambda_data_2018 %>%\n",
    "  pivot_longer(cols = starts_with(\"hour\"), # Select columns to merge\n",
    "               names_to = \"hour\",          # Name for the new column with hour identifiers\n",
    "               values_to = \"lambda\")       # Name for the new column with lambda values\n",
    "\n",
    "# View the reshaped dataset\n",
    "head(data_long,30) #shows 20 rows of data where it's organized with day, hour, lambda as columns "
   ]
  },
  {
   "cell_type": "code",
   "execution_count": null,
   "id": "f24337e2",
   "metadata": {},
   "outputs": [],
   "source": [
    "# Calculate the average cost from 12am-6am (hour01 to hour06)\n",
    "avg_cost_12am_6am <- data_long %>%\n",
    "  filter(hour %in% paste0(\"hour0\",1:6)) %>%\n",
    "  summarise(avg_lambda_12am_6am = mean(lambda, na.rm = TRUE))\n",
    "\n",
    "avg_cost_12am_6am"
   ]
  }
 ],
 "metadata": {
  "kernelspec": {
   "display_name": "R",
   "language": "R",
   "name": "ir"
  },
  "language_info": {
   "codemirror_mode": "r",
   "file_extension": ".r",
   "mimetype": "text/x-r-source",
   "name": "R",
   "pygments_lexer": "r",
   "version": "4.3.1"
  }
 },
 "nbformat": 4,
 "nbformat_minor": 5
}
