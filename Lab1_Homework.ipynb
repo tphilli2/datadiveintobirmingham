{
 "cells": [
  {
   "cell_type": "markdown",
   "id": "84c183d3-784d-4e2f-9f1e-db588d81e6bc",
   "metadata": {},
   "source": [
    "# Homework 1\n",
    "\n",
    "### <div class=\"alert alert-block alert-danger\"><b>Practice in Birmingham: Presedential Election</b></div> "
   ]
  },
  {
   "cell_type": "markdown",
   "id": "d93acf53-7dc2-49f2-bea3-a3c0be814061",
   "metadata": {},
   "source": [
    "#### Name:"
   ]
  },
  {
   "cell_type": "raw",
   "id": "d6c1208e-fae9-4eea-b2af-180774856f93",
   "metadata": {},
   "source": []
  },
  {
   "cell_type": "markdown",
   "id": "2af676a1-e3cd-44f3-878f-3b4bc770be75",
   "metadata": {},
   "source": [
    "### Exit Poll for Presidential Election\n",
    "\n",
    "An exit poll was done at the 2020 Presidential Election for different areas of states. Take a look at the results for Alabama ([source](https://www.cnn.com/election/2020/exit-polls/president/alabama)). For the Birmingham/South Central area of Alabama, there were 336 respondents, and 56% said they voted for Biden."
   ]
  },
  {
   "cell_type": "markdown",
   "id": "4220f2ba-c20e-41f8-8498-1d37c04481df",
   "metadata": {},
   "source": [
    "**Question 1:** Calculate the percentage of respondents who voted for Trump.\n",
    "\n",
    "##### Your answer:"
   ]
  },
  {
   "cell_type": "code",
   "execution_count": null,
   "id": "c1eda9e9-a529-4f61-ae0d-ca3958b0da73",
   "metadata": {},
   "outputs": [],
   "source": []
  },
  {
   "cell_type": "markdown",
   "id": "503b56d4-d435-4344-a74e-b9b35539544e",
   "metadata": {},
   "source": [
    "**Question 2:** How many respondents voted for Trump if the total respondents are 336 and 56% voted for Biden?\n",
    "\n",
    "##### Your answer:"
   ]
  },
  {
   "cell_type": "code",
   "execution_count": null,
   "id": "945a9d5e-b429-46fb-adf3-0b51cf972d40",
   "metadata": {},
   "outputs": [],
   "source": []
  },
  {
   "cell_type": "markdown",
   "id": "5a6e47ee-000f-4f2c-b6e6-4d9f6898fdfe",
   "metadata": {},
   "source": [
    "**Question 3:** If 10 more respondents had voted for Biden out of the 336 polled, what would the new percentage of Biden voters be?\n",
    "\n",
    "*Hints:*\n",
    "   - Use basic arithmetic operations to calculate the answers.\n",
    "   - Consider what happens to the percentages if the total number of respondents changes.\n",
    "\n",
    "##### Your answer:"
   ]
  },
  {
   "cell_type": "code",
   "execution_count": null,
   "id": "7256dfe1-a25b-4036-a4bb-bfd30d092fa2",
   "metadata": {},
   "outputs": [],
   "source": []
  },
  {
   "cell_type": "markdown",
   "id": "8c51e80f-4bd1-4102-ba07-131d513e2365",
   "metadata": {
    "tags": []
   },
   "source": [
    "**Question 4:** The data from the exit poll includes personal and potentially sensitive information regarding political choices. Based on the ethical considerations learned in Chapter 2, discuss the following:\n",
    "    \n",
    "   1. How should the data from this exit poll be treated to ensure the confidentiality of the respondents?\n",
    "   2. What steps should the researchers take to obtain informed consent from participants in this type of study?\n",
    "   3. Considering the public nature of exit polls, is it enough to keep the data confidential, or should researchers also strive to make the data anonymous? Explain why or why not.\n",
    "   \n",
    "   ##### Your answer:"
   ]
  },
  {
   "cell_type": "code",
   "execution_count": null,
   "id": "3b42d1bb-ed10-4f84-8bea-c391ae9786bd",
   "metadata": {},
   "outputs": [],
   "source": []
  },
  {
   "cell_type": "markdown",
   "id": "402afe19-4ad9-4a86-a991-a23b263cff5e",
   "metadata": {},
   "source": [
    "**Submission:**\n",
    "\n",
    "   - **Write your code in a separate script (.ipynb) and print it as a PDF or HTML file to submit the results on course Canvas website.**"
   ]
  }
 ],
 "metadata": {
  "kernelspec": {
   "display_name": "R",
   "language": "R",
   "name": "ir"
  },
  "language_info": {
   "codemirror_mode": "r",
   "file_extension": ".r",
   "mimetype": "text/x-r-source",
   "name": "R",
   "pygments_lexer": "r",
   "version": "4.3.1"
  }
 },
 "nbformat": 4,
 "nbformat_minor": 5
}
