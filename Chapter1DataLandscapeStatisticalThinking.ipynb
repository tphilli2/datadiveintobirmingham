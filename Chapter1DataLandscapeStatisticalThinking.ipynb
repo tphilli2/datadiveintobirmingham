{
 "cells": [
  {
   "cell_type": "markdown",
   "id": "f0191383-ddcb-4578-b05e-380d492dd892",
   "metadata": {
    "tags": []
   },
   "source": [
    "## Chapter 1: Birmingham's Data Landscape and Statistical Thinking\n",
    "#### MA 189 Data Dive Into Birmingham (with R)\n",
    "##### _Blazer Core: City as Classroom_\n",
    "\n",
    "Course Website: [Github.com/kerenli/statbirmingham/](https://github.com/kerenli/statbirmingham/)"
   ]
  },
  {
   "cell_type": "markdown",
   "id": "08d2fcf2-b953-42cd-a4a9-e97a943a7e1b",
   "metadata": {
    "tags": []
   },
   "source": [
    "#### Levels:\n",
    "<div class=\"alert-success\"> Concepts and general information</div>\n",
    "<div class=\"alert-warning\"> Important methods and technique details </div>\n",
    "<div class=\"alert-info\"> Extended reading </div>\n",
    "<div class=\"alert-danger\"> (Local) examples, assignments, and <b>Practice in Birmingham</b> </div>"
   ]
  },
  {
   "cell_type": "markdown",
   "id": "0cbe4792",
   "metadata": {},
   "source": [
    "##### <div class=\"alert alert-block alert-success\"> Introduction </div>\n",
    "\n",
    "Welcome to Data Dive Into Birmingham! To start, let's get acquainted with our gem of a city with this introduction video (whether you're from here or not!). Take note that there are a lot of quantitative measurements mentioned in this video that contribute to the uniqueness of Birmingham! \n",
    "\n",
    "\n",
    "[![Video: Birmingham Overview](https://www.youtube.com/watch?v=e95Vk5eW7ys)](https://www.youtube.com/watch?v=e95Vk5eW7ys)\n",
    "\n",
    "\n",
    "\n",
    "By the end of this chapter, you will understand the foci of this course on developing statistical, programming, and data analysis skills while simulatenously having the opportunity to dive into data in our local area!"
   ]
  },
  {
   "cell_type": "markdown",
   "id": "a4551389-5dd1-40c7-bb90-703d77d5f06a",
   "metadata": {
    "tags": []
   },
   "source": [
    "### Course Intro & Local Data Sources"
   ]
  },
  {
   "cell_type": "markdown",
   "id": "6a54bb4c-b454-4956-8be7-24b6c4809554",
   "metadata": {
    "tags": []
   },
   "source": [
    "##### <div class=\"alert alert-block alert-success\"> Overview of Course \n",
    "The intention of this course is to provide students with knowledge of statistical concepts, provide exposure to real-life application of the concepts in the surrounding region (Birmingham and Alabama), and obtain coding skills by utilizing R to perform statistical methods and visualize data/results. Students will also gain insight into a variety of careers which may help influence or form their career path. \n",
    "\n",
    "\n",
    "\n"
   ]
  },
  {
   "cell_type": "markdown",
   "id": "6281dff9",
   "metadata": {},
   "source": [
    "##### <div class=\"alert alert-block alert-success\"> Local Contributions and Data Sources </div>\n",
    "\n",
    "We are grateful to the following organizations and departments that have contributed to this course to provide real-world examples of how the content in this course is applied in various fields in the surrounding region: <br>\n",
    "\n",
    "Alabama Power Company <br>\n",
    "World Rugby Shop <br>\n",
    "Protective Life  <br>\n",
    "UAB Department of History <br>\n",
    "[possibly more to come]\n",
    "\n",
    "In addition to publicly available data that will be cited throughout the course, we appreciate the data made available by the following organizations to provide practice for course material:<br>\n",
    "Alabama Power Company<br>\n",
    "World Rugby Shop<br>\n",
    "[possibly more to come]\n"
   ]
  },
  {
   "cell_type": "markdown",
   "id": "da35d21f",
   "metadata": {},
   "source": [
    "<div class=\"alert alert-block alert-danger\">\n",
    "    <b> Local Student Practice:</b> Being Inquisitive & Forming Questions\n",
    "</div>\n",
    "\n",
    "Think back to the introduction video about Birmingham. What quantitative questions come to mind that you might be interested in knowing about for this community? \n",
    "\n",
    "I offer an example: I wonder what the daily average number of visitors is to Barber Motorsports Park and Museum?\n",
    "\n",
    "Asking these questions leads to the need of statistical and data analysis tools! "
   ]
  },
  {
   "cell_type": "markdown",
   "id": "8733eaeb",
   "metadata": {},
   "source": [
    "##### Your answer:"
   ]
  },
  {
   "cell_type": "markdown",
   "id": "574768b8",
   "metadata": {},
   "source": [
    "### Statistical Thinking and the Scientific Method"
   ]
  },
  {
   "cell_type": "markdown",
   "id": "372fced7",
   "metadata": {},
   "source": [
    "##### <div class=\"alert alert-block alert-success\"> Statistics </div>\n",
    "\n",
    "* __Statistics__ is the study of how to translate data into understanding of the world around us. \n",
    "\n",
    "There are 3 pillars to this process:\n",
    "1. Design: Questions & Collection\n",
    "2. Describe: Analyze & Summarize\n",
    "3. Infer: Probabilities & Predictions\n",
    "\n",
    "* The __population__ is the set of all individuals of interest.\n",
    "* A __census__ collects data from the entire population.\n",
    "* A __sample__ is a managable subset of the population. \n",
    "* __Individuals (or study subjects)__ are the people, objects, or entities in a study. \n",
    "* A __variable__ is the characteristic of an individual to be measured or observed in a study.\n",
    "* An __observation__ is a single response in the study. \n",
    "\n"
   ]
  },
  {
   "cell_type": "markdown",
   "id": "b15d67d1",
   "metadata": {},
   "source": [
    "##### <div class=\"alert alert-block alert-success\"> Numerical Measures </div>"
   ]
  },
  {
   "cell_type": "markdown",
   "id": "e07e1523",
   "metadata": {},
   "source": [
    "* A __statistic__ is a numerical measure that describes the sample. \n",
    "* A __parameter__ is a numerical measure that describes the population. \n",
    "\n",
    "In the chapters to come, we will discuss the following concepts:<br>\n",
    "size (sample: $n$, population: $N$) <br>\n",
    "mean (sample: $\\bar{x}$, population: $\\mu$)<br>\n",
    "standard deviation (sample: $s$, population: $\\sigma$) <br>\n",
    "median (sample: $\\tilde{x}$, population: $\\eta$)<br>\n",
    "proportion (sample: $\\hat{p}$, population: $p$)\n"
   ]
  },
  {
   "cell_type": "markdown",
   "id": "d7682cf3",
   "metadata": {},
   "source": [
    "<div class=\"alert alert-block alert-danger\"><b>Local Application:</b> Exit Poll for Presidential Election</div>\n",
    "\n",
    "An exit poll was done at the 2020 Presidential Election for different areas of states. Take a look at the results for Alabama (https://www.cnn.com/election/2020/exit-polls/president/alabama). For the Birmingham/South Central area of Alabama, there were 336 respondents and 56% said they voted for Biden.\n",
    "\n",
    "1. What is the population in this example? \n",
    "2. What is the sample in this example? \n",
    "3. Is 56% a statistic or parameter?\n",
    "4. What is the variable in this study?\n",
    "5. What is an example of an observation in this poll? \n",
    "6. After an election, we have data on all votes casted. What do we call it when data are available for the entire population? \n",
    "\n",
    "\n",
    "\n"
   ]
  },
  {
   "cell_type": "markdown",
   "id": "49ea86ce",
   "metadata": {},
   "source": [
    "##### Your answer:"
   ]
  }
 ],
 "metadata": {
  "kernelspec": {
   "display_name": "R",
   "language": "R",
   "name": "ir"
  },
  "language_info": {
   "codemirror_mode": "r",
   "file_extension": ".r",
   "mimetype": "text/x-r-source",
   "name": "R",
   "pygments_lexer": "r",
   "version": "4.3.1"
  }
 },
 "nbformat": 4,
 "nbformat_minor": 5
}
