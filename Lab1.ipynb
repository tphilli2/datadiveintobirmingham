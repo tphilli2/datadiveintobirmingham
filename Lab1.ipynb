{
 "cells": [
  {
   "cell_type": "markdown",
   "id": "5fed8ef5-2d36-47a7-840b-898810e9d4e6",
   "metadata": {
    "tags": []
   },
   "source": [
    "## Lab 1: Introduction to R in Statistics & Data Analysis\n",
    "#### MA 189 Data Dive Into Birmingham (with R)\n",
    "##### _Blazer Core: City as Classroom_\n",
    "\n",
    "Course Website: [Github.com/kerenli/statbirmingham/](https://github.com/kerenli/statbirmingham/) \n"
   ]
  },
  {
   "cell_type": "markdown",
   "id": "3565ef91-dcdd-47d6-811e-21ea0a33d32f",
   "metadata": {
    "tags": []
   },
   "source": [
    "#### Levels:\n",
    "<div class=\"alert-success\"> Concepts and general information</div>\n",
    "<div class=\"alert-warning\"> Important methods and technique details </div>\n",
    "<div class=\"alert-info\"> Extended reading </div>\n",
    "<div class=\"alert-danger\"> (Local) examples, assignments, and <b>Practice in Birmingham</b> </div>"
   ]
  },
  {
   "cell_type": "markdown",
   "id": "86712cfe-5489-4c87-9f5a-5d2a084c4d73",
   "metadata": {
    "tags": []
   },
   "source": [
    "## <div class=\"alert alert-block alert-success\"> What Is R? </div>"
   ]
  },
  {
   "cell_type": "markdown",
   "id": "41167944-6b32-4e59-8abd-0ef932a174e5",
   "metadata": {},
   "source": [
    "Simply speaking, R is a language and environment for statistical computing and graphics."
   ]
  },
  {
   "cell_type": "markdown",
   "id": "b15bb457-6824-431e-855b-a767c790e45c",
   "metadata": {},
   "source": [
    "R does:\n",
    "* Graphics, statistics, machine learning, etc.\n",
    "* Data acquisition, munging, management\n",
    "* Literate programming (dynamic reports)\n",
    "* Web applications"
   ]
  },
  {
   "cell_type": "markdown",
   "id": "3ed000fb-7c88-410d-8e32-ccfae0cc9a1f",
   "metadata": {},
   "source": [
    "More specifically, R is a powerful and versatile programming language specifically designed for statistical analysis and data visualization. It was created by statisticians for statisticians, making it particularly well-suited for tasks such as data manipulation, analysis, and graphical representation."
   ]
  },
  {
   "cell_type": "markdown",
   "id": "0b0df600-2371-4a4b-a0cb-c21e4daf204f",
   "metadata": {},
   "source": [
    "One of the key strengths of R is its extensive ecosystem of packages—collections of functions and datasets that extend the capabilities of base R. These packages allow users to perform a wide range of tasks, from basic statistical analysis to complex machine learning algorithms, all within the same environment."
   ]
  },
  {
   "cell_type": "markdown",
   "id": "8f4107fd-add9-40aa-8484-1fef964ee72f",
   "metadata": {},
   "source": [
    "R is widely used in academia, research, and industry, especially in fields like data science, bioinformatics, economics, and social sciences. Its open-source nature means it is freely available to everyone, and its active community continuously contributes to its development and improvement."
   ]
  },
  {
   "cell_type": "markdown",
   "id": "61e41102-4378-4275-9c6f-08756d29dea4",
   "metadata": {},
   "source": [
    "In this course, you will use R to explore and analyze real-world data, gaining practical experience that will be invaluable in your studies and future career."
   ]
  },
  {
   "cell_type": "markdown",
   "id": "36404ef4-d0bf-46e1-a9a7-ded948056fe6",
   "metadata": {},
   "source": [
    "## <div class=\"alert alert-block alert-success\"> Options for Running R </div>"
   ]
  },
  {
   "cell_type": "markdown",
   "id": "d1078edb-b864-4f06-88f5-81913ceb355d",
   "metadata": {},
   "source": [
    "##### <div class=\"alert alert-block alert-danger\"> Download and Install R </div>\n",
    "1. Go to [http://www.r-project.org/](http://www.r-project.org/)\n",
    "\n",
    "2. Click on the \"CRAN\" link and choose a CRAN mirror close to your location.\n",
    "\n",
    "3. Download the version of R appropriate for your operating system (Windows, macOS, or Linux).\n",
    "\n",
    "4. Follow the installation instructions provided on the website.\n",
    "\n",
    "There are several options for running R."
   ]
  },
  {
   "cell_type": "markdown",
   "id": "24f4ec89-ef22-461d-a744-4af824f3d75e",
   "metadata": {},
   "source": [
    "##### <div class=\"alert alert-block alert-danger\"> Run R in RStudio </div>\n",
    "\n",
    "RStudio is a popular integrated development environment (IDE) for R. It provides a user-friendly interface, making it easier to write, run, and debug R code.\n",
    "\n",
    "1. Install R:\n",
    "    - Go to [http://www.r-project.org/](http://www.r-project.org/) and download R for your operating system.\n",
    "    - Install R by following the instructions. \n",
    "    \n",
    "\n",
    "2. Install RStudio:\n",
    "    - Go to [https://www.rstudio.com/products/rstudio/download/](https://www.rstudio.com/products/rstudio/download/).\n",
    "    - Download the installer for your operating system and install RStudio. \n",
    "\n",
    "3. Run RStudio:\n",
    "    - Open RStudio.\n",
    "    - You can start writing and running R code directly in the RStudio console or script editor. "
   ]
  },
  {
   "cell_type": "markdown",
   "id": "7aadf450-78ea-4d32-a82d-887882048db4",
   "metadata": {
    "tags": []
   },
   "source": [
    "##### <div class=\"alert alert-block alert-danger\"> Setting Up R Kernel in JupyterLab via Anaconda </div>\n",
    "\n",
    "Anaconda is a distribution that includes Python, R, and other packages, and it simplifies managing multiple programming environments.\n",
    "\n",
    "Follow the steps below to create a new environment and install the necessary packages.\n",
    "\n",
    "1. Install Anaconda:\n",
    "    - Download Anaconda from [https://www.anaconda.com/products/individual](https://www.anaconda.com/products/individual).\n",
    "    - Follow the installation instructions.\n",
    "\n",
    "2. Open Anaconda Navigator.\n",
    "3. Create a New Environment:\n",
    "    If you cannot find the `r-base` package in the default (base/root) environment, it is recommended to create a new environment. \n",
    "    - In the **Anaconda Navigator** window, navigate to the **Environments** tab on the left-hand side.\n",
    "    - In the bottom left corner, click the **Create** button.\n",
    "    - A dialog box will appear. Enter a name for your new environment (for example, `r_env`).\n",
    "    - Under the **Packages** section, check both **Python** and **R** to include them in your environment.\n",
    "    - Click **Create**. Anaconda Navigator will now set up your new environment.\n",
    "       \n",
    "4. Activate and Install Packages in the New Environment\n",
    "    - Once the environment is created, select it from the list of environments on the left-hand side.\n",
    "    - To install additional packages, such as **JupyterLab**, click the **Search Packages** box.\n",
    "    - Search for **JupyterLab**, select it from the results, and click **Apply** to install it.\n",
    "    - You can also install other packages like `r-base` and `IRkernel` directly from the Navigator by searching for them.\n",
    "\n",
    "5. Launch JupyterLab:\n",
    "    - In Anaconda Navigator, go to the Home tab.\n",
    "    - Under Applications on [Your Environment Name], find JupyterLab and click Launch.\n",
    "    - In JupyterLab, when you create a new notebook, select R from the list of available kernels."
   ]
  },
  {
   "cell_type": "markdown",
   "id": "6ec19b80-9087-4fd3-904f-e9c77d72d614",
   "metadata": {
    "tags": []
   },
   "source": [
    "<div class=\"alert alert-block alert-info\">\n",
    "Setup JupyterLab for R\n",
    "</div>\n",
    "\n",
    "Jupyter Notebook allows you to run R code within an interactive notebook environment, which is excellent for combining code, visualizations, and text. Below are the steps to install and run R in Jupyter Notebook:\n",
    "\n",
    "1. Install R:\n",
    "    - Go to [http://www.r-project.org/](http://www.r-project.org/) and download R for your operating system.\n",
    "    - Install R by following the instructions.\n",
    "\n",
    "2. Install Python:\n",
    "    - Download and install Python from [https://www.python.org/downloads/](https://www.python.org/downloads/) if not already installed.\n",
    "\n",
    "3. Install JupyterLab:\n",
    "    - Open your command line interface and install JupyterLab by running:\n",
    "      \n",
    "      ---\n",
    "      ```bash\n",
    "      pip install jupyterlab\n",
    "      ```\n",
    "      ---\n",
    "      \n",
    "    - On macOS, you might need to use `pip3` instead:\n",
    "    \n",
    "      --- \n",
    "      ```bash\n",
    "      pip3 install jupyterlab\n",
    "      ```\n",
    "      ---\n",
    "      \n",
    "4. Install R Kernel for Jupyter Notebook:\n",
    "    - Open the command line and type `R` to start the R console.\n",
    "    - In the R console, install the IRkernel package:\n",
    "    \n",
    "      ---\n",
    "      ```r\n",
    "      install.packages('IRkernel')\n",
    "      ```\n",
    "      ---\n",
    "      \n",
    "    - When prompted to select a CRAN mirror, choose one close to your location (e.g., “USA (TX 1)”).\n",
    "    - Make the R kernel available to Jupyter:\n",
    "    \n",
    "      ---\n",
    "      ```r\n",
    "      IRkernel::installspec()\n",
    "      ```\n",
    "      ---\n",
    "\n",
    "5. Run JupyterLab:\n",
    "    - Start JupyterLab by typing `jupyter lab` in the command line.\n",
    "    - This will open JupyterLab in your web browser.\n",
    "    - Create a new notebook and select the \"R\" kernel to start coding in R."
   ]
  },
  {
   "cell_type": "markdown",
   "id": "91b29940-d0ba-4735-a2f5-6b6c7ef86637",
   "metadata": {},
   "source": [
    "<div class=\"alert alert-block alert-info\">\n",
    "Run R in the Command Line\n",
    "</div>\n",
    "\n",
    "You can run R directly from the command line, which is useful for quick tasks or when you prefer working in a terminal environment.\n",
    "\n",
    "1. Install R:\n",
    "    - Go to [http://www.r-project.org/](http://www.r-project.org/) and download R for your operating system.\n",
    "    - Install R by following the instructions.\n",
    "\n",
    "2. Open the Command Line:\n",
    "    - On Windows: Open Command Prompt.\n",
    "    - On macOS/Linux: Open Terminal.\n",
    "\n",
    "3. Start R:\n",
    "    - Type `R` and press Enter.\n",
    "    - This will start the R console in your command line interface.\n"
   ]
  },
  {
   "cell_type": "markdown",
   "id": "a43dfda7-3f77-4f77-813f-f71757e78e24",
   "metadata": {},
   "source": [
    "## <div class=\"alert alert-block alert-success\"> Basic R </div>"
   ]
  },
  {
   "cell_type": "markdown",
   "id": "1fa34c05-8df9-46e7-ad8c-c66e2fc1f3fd",
   "metadata": {},
   "source": [
    "### <div class=\"alert alert-block alert-success\"> Basic R Operations and Commonly Used Functions </div>\n",
    "\n",
    "**Objective:** \n",
    "Introduce students to the basic operations in R and familiarize them with commonly used functions."
   ]
  },
  {
   "cell_type": "markdown",
   "id": "f3cbf897-b00d-44bc-b04a-2ae39bda1408",
   "metadata": {},
   "source": [
    "#### <div class=\"alert alert-block alert-success\"> 1. Basic Arithmetic Operations </div>\n",
    "   - Addition (`+`)\n",
    "   - Subtraction (`-`)\n",
    "   - Multiplication (`*`)\n",
    "   - Division (`/`)\n",
    "   - Exponentiation (`^`)\n",
    "   - Modulus (`%%`)\n",
    "   - Integer Division (`%/%`)\n",
    "\n",
    "   *Example:*"
   ]
  },
  {
   "cell_type": "code",
   "execution_count": null,
   "id": "d3e6fa4d-2170-47e0-b4d5-4d1601ea6e87",
   "metadata": {
    "tags": []
   },
   "outputs": [],
   "source": [
    "   5 + 3   # Addition\n",
    "   10 - 4  # Subtraction\n",
    "   7 * 2   # Multiplication\n",
    "   21 / 5  # Division\n",
    "   2^3     # Exponentiation\n",
    "   10 %% 3 # Modulus\n",
    "   10 %/% 3 # Integer Division"
   ]
  },
  {
   "cell_type": "markdown",
   "id": "7b3c3220-3b00-431c-93c0-382b5fb8805d",
   "metadata": {},
   "source": [
    "#### <div class=\"alert alert-block alert-success\"> 2. Comparison Operators </div>\n",
    "   - Equal to (`==`)\n",
    "   - Not equal to (`!=`)\n",
    "   - Greater than (`>`)\n",
    "   - Less than (`<`)\n",
    "   - Greater than or equal to (`>=`)\n",
    "   - Less than or equal to (`<=`)\n",
    "\n",
    "   *Example:*"
   ]
  },
  {
   "cell_type": "code",
   "execution_count": null,
   "id": "439ced99-9525-46e4-adfc-56327b8982b4",
   "metadata": {},
   "outputs": [],
   "source": [
    "   5 == 3  # False\n",
    "   5 != 3  # True\n",
    "   5 > 3   # True\n",
    "   5 < 3   # False"
   ]
  },
  {
   "cell_type": "markdown",
   "id": "3750194b-deec-4ff8-8865-9322f5b4ea1d",
   "metadata": {},
   "source": [
    "#### <div class=\"alert alert-block alert-success\"> 3. Logical Operators </div>\n",
    "   - AND (`&`)\n",
    "   - OR (`|`)\n",
    "   - NOT (`!`)\n",
    "\n",
    "   *Example:*"
   ]
  },
  {
   "cell_type": "code",
   "execution_count": null,
   "id": "a09ddcdd-e3f0-44fa-bb27-b9ffc58bed59",
   "metadata": {},
   "outputs": [],
   "source": [
    "   (5 > 3) & (4 > 2)  # True\n",
    "   (5 > 3) | (4 < 2)  # True \n",
    "   !(5 > 3)           # False"
   ]
  },
  {
   "cell_type": "markdown",
   "id": "9ac5958a-654c-40b7-af5b-6b3922975638",
   "metadata": {},
   "source": [
    "#### <div class=\"alert alert-block alert-success\"> 4. Commonly Used Functions </div>\n",
    "   - `sum()`: Sum of elements\n",
    "   - `mean()`: Mean of elements\n",
    "   - `median()`: Median of elements\n",
    "   - `sd()`: Standard deviation\n",
    "   - `min()`, `max()`: Minimum and maximum values\n",
    "   - `range()`: Range of values\n",
    "   - `length()`: Number of elements in an object\n",
    "\n",
    "   *Example:*"
   ]
  },
  {
   "cell_type": "code",
   "execution_count": null,
   "id": "a064fc8b-a1d6-4c07-b7a0-bb3b0d3aefb9",
   "metadata": {},
   "outputs": [],
   "source": [
    "   numbers <- c(1, 2, 3, 4, 5)\n",
    "   sum(numbers)      # Sum: 15\n",
    "   mean(numbers)     # Mean: 3\n",
    "   median(numbers)   # Median: 3\n",
    "   sd(numbers)       # Standard Deviation: 1.581\n",
    "   min(numbers)      # Minimum: 1\n",
    "   max(numbers)      # Maximum: 5\n",
    "   range(numbers)    # Range: 1 5\n",
    "   length(numbers)   # Length: 5"
   ]
  },
  {
   "cell_type": "markdown",
   "id": "624b28fb-e811-46c5-a9a7-40cc3c818a40",
   "metadata": {
    "tags": []
   },
   "source": [
    "#### <div class=\"alert alert-block alert-success\"> 5. Help and Documentation </div>\n",
    "   - How to get help on a function using `?` or `help()`.\n",
    "\n",
    "   *Example:*"
   ]
  },
  {
   "cell_type": "code",
   "execution_count": null,
   "id": "83d91391-0e91-47f3-8e1c-42906273900c",
   "metadata": {
    "tags": []
   },
   "outputs": [],
   "source": [
    "?mean  # Help on the mean function\n",
    "help(sd)  # Help on the standard deviation function"
   ]
  },
  {
   "cell_type": "markdown",
   "id": "a7da5ce0-d99b-4dda-ab05-1f00c584657a",
   "metadata": {},
   "source": [
    "### <div class=\"alert alert-block alert-success\"> Data Structures in R </div>\n",
    "\n",
    "**Objective:** \n",
    "Introduce students to the primary data structures in R, including vectors, matrices, data frames, and lists."
   ]
  },
  {
   "cell_type": "markdown",
   "id": "9e456173-ceab-4dbe-a447-2ca861f23228",
   "metadata": {},
   "source": [
    "#### <div class=\"alert alert-block alert-success\"> 1. Vectors </div>\n",
    "   - Creating vectors using `c()`\n",
    "   - Accessing elements in a vector\n",
    "   - Vector operations (element-wise)\n",
    "   - Common functions applied to vectors (`sum()`, `mean()`, etc.)\n",
    "\n",
    "   *Example:*"
   ]
  },
  {
   "cell_type": "code",
   "execution_count": null,
   "id": "25c23ed3-2bf8-4cd9-bb14-777926ef68e9",
   "metadata": {},
   "outputs": [],
   "source": [
    "# Creating a vector\n",
    "vec <- c(1, 2, 3, 4, 5)\n",
    "\n",
    "# Accessing elements\n",
    "vec[1]    # First element\n",
    "vec[1:3]  # First three elements\n",
    "\n",
    "# Vector operations\n",
    "vec + 2       # Adds 2 to each element\n",
    "vec * 2       # Multiplies each element by 2\n",
    "sum(vec)      # Sum of elements\n",
    "mean(vec)     # Mean of elements"
   ]
  },
  {
   "cell_type": "markdown",
   "id": "0f54ac18-6849-4a3a-8e02-ccb34f99184f",
   "metadata": {},
   "source": [
    "#### <div class=\"alert alert-block alert-success\"> 2. Matrices </div>\n",
    "   - Creating matrices using `matrix()`\n",
    "   - Accessing elements, rows, and columns\n",
    "   - Basic matrix operations (addition, multiplication)\n",
    "   \n",
    "   *Example:*"
   ]
  },
  {
   "cell_type": "code",
   "execution_count": null,
   "id": "5a612195-20e3-4772-94a1-781311649488",
   "metadata": {
    "tags": []
   },
   "outputs": [],
   "source": [
    "# Creating a matrix\n",
    "mat <- matrix(1:9, nrow=3, ncol=3)\n",
    "\n",
    "# Accessing elements\n",
    "mat[1, 2]     # Element in first row, second column\n",
    "mat[, 1]      # First column\n",
    "mat[1, ]      # First row\n",
    "\n",
    "# Matrix operations\n",
    "mat + 2       # Add 2 to each element\n",
    "mat * 2       # Multiply each element by 2\n",
    "mat %*% mat   # Matrix multiplication"
   ]
  },
  {
   "cell_type": "markdown",
   "id": "153a032b-7123-437a-a285-f630e3af988c",
   "metadata": {},
   "source": [
    "#### <div class=\"alert alert-block alert-success\"> 3. Data Frames </div>\n",
    "   - Creating data frames using `data.frame()`\n",
    "   - Accessing columns by name and position\n",
    "   - Adding and removing columns\n",
    "   \n",
    "   *Example:*"
   ]
  },
  {
   "cell_type": "code",
   "execution_count": null,
   "id": "58f84806-662d-4974-b422-58f661aad13b",
   "metadata": {
    "tags": []
   },
   "outputs": [],
   "source": [
    "# Creating a data frame\n",
    "df <- data.frame(\n",
    "  Name = c(\"Alice\", \"Bob\", \"Charlie\"),\n",
    "  Age = c(25, 30, 35),\n",
    "  Height = c(5.5, 6.0, 5.8)\n",
    ")\n",
    "\n",
    "# Print the data frame\n",
    "df\n",
    "\n",
    "# Accessing columns\n",
    "df$Name     # Access by column name\n",
    "df[, 2]     # Access by column position\n",
    "\n",
    "# Adding a column\n",
    "df$Weight <- c(130, 150, 160)\n",
    "\n",
    "\n",
    "\n",
    "# Removing a column\n",
    "df$Height <- NULL\n",
    "\n"
   ]
  },
  {
   "cell_type": "markdown",
   "id": "d96eae67-079a-45cb-92ae-24340ebdd86f",
   "metadata": {},
   "source": [
    "#### <div class=\"alert alert-block alert-success\"> 4. Lists </div>\n",
    "   - Creating lists using `list()`\n",
    "   - Accessing elements in a list\n",
    "   - Lists containing different types of objects\n",
    "   \n",
    "   *Example:*"
   ]
  },
  {
   "cell_type": "code",
   "execution_count": null,
   "id": "02c93dbd-2aed-4969-9717-8261febda49f",
   "metadata": {
    "tags": []
   },
   "outputs": [],
   "source": [
    "# Creating a list\n",
    "my_list <- list(\n",
    "  Name = \"Alice\",\n",
    "  Age = 25,\n",
    "  Scores = c(85, 90, 95)\n",
    ")\n",
    "\n",
    "#Print list\n",
    "my_list \n",
    "\n",
    "# Accessing elements\n",
    "my_list$Name         # Access by name\n",
    "my_list[[2]]         # Access by position\n",
    "my_list$Scores[2]    # Accessing elements within a vector in a list"
   ]
  },
  {
   "cell_type": "markdown",
   "id": "ab8a8630-1727-49ee-a672-78f869efd836",
   "metadata": {},
   "source": [
    "#### <div class=\"alert alert-block alert-success\"> Lab Activity </div>\n",
    "\n",
    "1. **Interactive Coding Session:**\n",
    "   - Students will follow along with the instructor to practice basic operations, functions, and working with data structures in R.\n",
    "   - Instructor will provide additional examples and hands-on exercises.\n",
    "\n",
    "2. **Homework Assignment:**\n",
    "   - Students will be assigned exercises to reinforce their understanding of R basics and data structures.\n",
    "   - The assignment will include tasks such as creating vectors, matrices, data frames, and lists, performing basic operations, and using commonly used functions."
   ]
  },
  {
   "cell_type": "markdown",
   "id": "2009ddba-cb14-46f3-9045-82b43986e959",
   "metadata": {},
   "source": [
    "### <div class=\"alert alert-block alert-success\"> Reading and Writing Data in R </div>\n",
    "\n",
    "**Objective:** \n",
    "Introduce students to reading data from files and writing data to disk in R.\n",
    "\n",
    "#### <div class=\"alert alert-block alert-success\"> 1. Reading Data </div>\n",
    "   - Reading CSV files using `read.csv()`\n",
    "   - Reading Excel files using `readxl` package\n",
    "   - Reading data from text files using `read.table()`\n",
    "   \n",
    "   *Example:*"
   ]
  },
  {
   "cell_type": "code",
   "execution_count": null,
   "id": "85dabd57-5d4e-4fb7-92b5-33f0636eae23",
   "metadata": {
    "tags": []
   },
   "outputs": [],
   "source": [
    "# Reading a CSV file\n",
    "data <- read.csv(\"data/us-states.csv\")\n",
    "\n",
    "data\n",
    "# Reading an Excel file\n",
    "# Install the readxl package if not already installed\n",
    "# install.packages(\"readxl\")\n",
    "library(readxl)\n",
    "data <- read_excel(\"data/House Prices.xlsx\")\n",
    "\n",
    "# Reading a text file\n",
    "data <- read.table(\"data/house.txt\", header = TRUE)\n",
    "\n"
   ]
  },
  {
   "cell_type": "markdown",
   "id": "8dd4fe33-f04c-4100-b724-ba06da948c02",
   "metadata": {},
   "source": [
    "#### <div class=\"alert alert-block alert-success\"> 2. Writing Data </div>\n",
    "   - Writing CSV files using `write.csv()`\n",
    "   - Writing data to text files using `write.table()`\n",
    "      \n",
    "   *Example:*"
   ]
  },
  {
   "cell_type": "code",
   "execution_count": null,
   "id": "a4f45ae8-e47f-418a-89b1-b1bdcb94567f",
   "metadata": {
    "tags": []
   },
   "outputs": [],
   "source": [
    "# Writing a CSV file\n",
    "write.csv(data, \"data/exit_poll_output.csv\")\n",
    "\n",
    "# Writing a text file\n",
    "write.table(data, \"data/exit_poll_output.txt\", sep = \"\\t\")"
   ]
  },
  {
   "cell_type": "markdown",
   "id": "a2a1a8b6-2992-4c0c-a355-493ec74cdb46",
   "metadata": {
    "tags": []
   },
   "source": [
    "### <div class=\"alert alert-block alert-danger\"><b>Lab Discussion: Exit Poll for Presidential Election</b></div>"
   ]
  },
  {
   "cell_type": "markdown",
   "id": "c65bb9b2-aeee-48a2-91be-8fb7dd3d7cff",
   "metadata": {},
   "source": [
    "An exit poll was done at the 2020 Presidential Election for different areas of states. Take a look at the results for Alabama ([source](https://www.cnn.com/election/2020/exit-polls/president/alabama)). For the Birmingham/South Central area of Alabama, there were 336 respondents, and 56% said they voted for Biden.\n"
   ]
  },
  {
   "cell_type": "markdown",
   "id": "ee8dd78c-e052-45a9-8bcc-92dd70290ab6",
   "metadata": {},
   "source": [
    "**Objective:** \n",
    "Guide students on how to apply the concepts learned in the lab using a real-world example.\n",
    "\n",
    "1. **Performing Basic Operations:**\n",
    "  - Calculate the number of respondents who voted for Biden.\n",
    "  - Calculate the percentage of respondents who did not vote for Biden."
   ]
  },
  {
   "cell_type": "code",
   "execution_count": null,
   "id": "7fbf9959-7531-4723-860b-bc4f1f1a8420",
   "metadata": {},
   "outputs": [],
   "source": [
    "total_respondents <- 336\n",
    "voted_for_biden <- 0.56 * total_respondents\n",
    "voted_for_biden"
   ]
  },
  {
   "cell_type": "code",
   "execution_count": null,
   "id": "1272f99d-1354-46fc-8f9c-d40ea361c3f5",
   "metadata": {},
   "outputs": [],
   "source": [
    "188/336"
   ]
  },
  {
   "cell_type": "markdown",
   "id": "a6936171-3823-4a13-a07a-08ab49740d5e",
   "metadata": {},
   "source": [
    "### <div class=\"alert alert-block alert-danger\"><b>Practice in Birmingham</b></div> "
   ]
  },
  {
   "cell_type": "markdown",
   "id": "7fd81389-f207-4972-af7a-b1af75a2b3de",
   "metadata": {
    "tags": []
   },
   "source": [
    "**Question 1:** Calculate the percentage of respondents who voted for Trump.\n",
    "\n",
    "**Question 2:** How many respondents voted for Trump if the total respondents are 336 and 56% voted for Biden?\n",
    "\n",
    "**Question 3:** If 10 more respondents had voted for Biden out of the 336 polled, what would the new percentage of Biden voters be?\n",
    "\n",
    "   *Hints:*\n",
    "   - Use basic arithmetic operations to calculate the answers.\n",
    "   - Consider what happens to the percentages if the total number of respondents changes.\n",
    "\n",
    "**Question 4:** The data from the exit poll includes personal and potentially sensitive information regarding political choices. Based on the ethical considerations learned in Chapter 2, discuss the following:\n",
    "    \n",
    "   1. How should the data from this exit poll be treated to ensure the confidentiality of the respondents?\n",
    "   2. What steps should the researchers take to obtain informed consent from participants in this type of study?\n",
    "   3. Considering the public nature of exit polls, is it enough to keep the data confidential, or should researchers also strive to make the data anonymous? Explain why or why not.\n",
    "\n",
    "**Submission:**\n",
    "\n",
    "   - Write your code in a separate script (.ipynb) and print it as a PDF or HTML file to submit the results on course Canvas website.\n",
    "    \n",
    "    \n"
   ]
  },
  {
   "cell_type": "code",
   "execution_count": null,
   "id": "59ee1a2a-5f35-4438-a668-7a2b9f601923",
   "metadata": {},
   "outputs": [],
   "source": []
  }
 ],
 "metadata": {
  "kernelspec": {
   "display_name": "R",
   "language": "R",
   "name": "ir"
  },
  "language_info": {
   "codemirror_mode": "r",
   "file_extension": ".r",
   "mimetype": "text/x-r-source",
   "name": "R",
   "pygments_lexer": "r",
   "version": "4.3.1"
  }
 },
 "nbformat": 4,
 "nbformat_minor": 5
}
