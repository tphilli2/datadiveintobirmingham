{
 "cells": [
  {
   "cell_type": "markdown",
   "id": "e4791b8b-8abf-49e6-9136-fd5ecbc4afa8",
   "metadata": {},
   "source": [
    "# Project 1"
   ]
  },
  {
   "cell_type": "markdown",
   "id": "dcd65df4-a430-4e4d-a6ef-16c385e8de38",
   "metadata": {},
   "source": [
    "### <div class=\"alert alert-block alert-danger\"><b> COVID-19 Impact Analysis: Alabama vs Other States </b></div>\n",
    "\n",
    "In this project, you will analyze and compare the impact of COVID-19 in Alabama with that in another state or with the national average. This analysis will involve a deep dive into the data, where you will calculate descriptive statistics, visualize trends, and apply probability and distribution concepts covered in Chapter 3.\n",
    "\n",
    "Your task is to use the statistical tools and techniques we've discussed to uncover patterns, trends, and anomalies in the data. By the end of this project, you should be able to draw meaningful conclusions about how COVID-19 has impacted Alabama compared to the selected region. This might include insights into the spread of the virus, the effectiveness of interventions, or other key metrics.\n",
    "\n",
    "You are encouraged to critically analyze the data and consider factors that may explain the differences you observe. Use the skills you have developed to tell a data-driven story that sheds light on the public health situation in Alabama.\n",
    "\n",
    "IMPORTANT: I have given template code for some parts of the project for the state of Georgia. You are expected to pick a different state and to fill in the code that is missing throughout. "
   ]
  },
  {
   "cell_type": "markdown",
   "id": "0b235e7f-3a36-4653-b6e2-18c778c31fa2",
   "metadata": {},
   "source": [
    "### Objectives\n",
    "1. **Data Acquisition:** Learn how to access and download COVID-19 data from a reliable source.\n",
    "2. **Descriptive Statistics:** Calculate and interpret key statistical measures (mean, median, standard deviation, etc.) for COVID-19 metrics in Alabama and another state.\n",
    "3. **Data Visualization:** Create plots to visually compare COVID-19 trends between Alabama and the selected region.\n",
    "4. **Probability and Distribution Analysis:** Apply probability concepts to understand the distribution of cases or deaths and make predictions.\n",
    "5. **Draw Conclusions:** Use the data analysis to make well-supported conclusions about the impact of COVID-19 in Alabama relative to the comparison region. Consider how these conclusions can inform public health decisions or policy.\n"
   ]
  },
  {
   "cell_type": "markdown",
   "id": "62329646-3277-4b33-bad9-b7e158674717",
   "metadata": {},
   "source": [
    "### Part 1: Data Acquisition\n",
    "\n",
    "**Objective:** Access and download COVID-19 data for multiple states, including Alabama.\n",
    "\n",
    "#### Steps:\n",
    "\n",
    "1. **Visit a Reliable Data Source:**\n",
    "   - The **New York Times COVID-19 Data** repository on GitHub is a reliable source of daily COVID-19 data for the U.S. You can access it at [https://github.com/nytimes/covid-19-data](https://github.com/nytimes/covid-19-data).\n",
    "   - Alternatively, you can use **Our World in Data** or **Johns Hopkins University COVID-19 Data** from [https://github.com/CSSEGISandData/COVID-19](https://github.com/CSSEGISandData/COVID-19).\n",
    "\n",
    "2. **Search for the Dataset:**\n",
    "   - For the New York Times dataset, you can directly download the CSV files for cases and deaths by state from their GitHub repository.\n",
    "   - Look for the files named `us-states.csv`.\n",
    "\n",
    "3. **Download the Dataset:**\n",
    "   - Download the `us-states.csv` file and save it in a folder named `data` within your project directory."
   ]
  },
  {
   "cell_type": "code",
   "execution_count": null,
   "id": "64017492-9357-4557-a746-ce80707b1fc7",
   "metadata": {},
   "outputs": [],
   "source": [
    "# Create the 'data' subfolder if it doesn't exist\n",
    "if (!dir.exists(\"data\")) {\n",
    "  dir.create(\"data\")\n",
    "}\n",
    "\n",
    "# Define the URL of the CSV file\n",
    "url <- \"https://raw.githubusercontent.com/nytimes/covid-19-data/master/us-states.csv\"\n",
    "\n",
    "# Define the destination file path\n",
    "destfile <- \"data/us-states.csv\"\n",
    "\n",
    "# Download the file\n",
    "download.file(url, destfile)\n",
    "\n",
    "# Verify that the file has been downloaded\n",
    "list.files(\"data\")"
   ]
  },
  {
   "cell_type": "markdown",
   "id": "5c986633-4297-447d-8889-22d5630a4894",
   "metadata": {},
   "source": [
    "### Part 2: Descriptive Statistics\n",
    "\n",
    "**Objective:** Calculate and interpret descriptive statistics for COVID-19 cases and deaths in Alabama and another selected state.\n",
    "\n",
    "#### Steps:\n",
    "\n",
    "1. **Load the Dataset into R:**\n",
    "   - Use appropriate R functions to read the CSV file and inspect the data.\n",
    "\n",
    "2. **Filter the Data:**\n",
    "   - Extract COVID-19 data for Alabama and your chosen comparison state from the dataset.\n",
    "\n",
    "3. **Calculate Descriptive Statistics:**\n",
    "   - Compute the **mean**, **median**, **standard deviation**, **variance**, and **range** for cases and deaths in both states.\n",
    "\n",
    "4. **Interpret the Results:**\n",
    "   - Compare the descriptive statistics between Alabama and the selected state.\n"
   ]
  },
  {
   "cell_type": "code",
   "execution_count": null,
   "id": "8572739a-ec3c-4483-8f3e-4aadb3f9f034",
   "metadata": {},
   "outputs": [],
   "source": [
    "# Install and load necessary packages\n",
    "# install.packages(\"tidyverse\") # Run only if not already installed\n",
    "library(tidyverse)\n",
    "\n",
    "# Read the CSV file\n",
    "\n",
    "\n",
    "# View the first few rows of the dataset\n",
    "\n",
    "\n",
    "# Filter data for Alabama and another state (e.g., Georgia)\n",
    "\n",
    "\n",
    "# Calculate descriptive statistics for Alabama and Georgia\n",
    "covid_summary <- covid_data_filtered %>%\n",
    "  group_by(state) %>%\n",
    "  reframe(\n",
    "    mean_cases = mean(cases, na.rm = TRUE),\n",
    "    median_cases = median(cases, na.rm = TRUE),\n",
    "    sd_cases = sd(cases, na.rm = TRUE),\n",
    "    range_cases = range(cases, na.rm = TRUE),\n",
    "    mean_deaths = mean(deaths, na.rm = TRUE),\n",
    "    median_deaths = median(deaths, na.rm = TRUE),\n",
    "    sd_deaths = sd(deaths, na.rm = TRUE),\n",
    "    range_deaths = range(deaths, na.rm = TRUE)\n",
    "  )\n",
    "covid_summary"
   ]
  },
  {
   "cell_type": "markdown",
   "id": "5e5bdc1c-8868-49a4-ade6-e2914bdb69e1",
   "metadata": {},
   "source": [
    "The `fips` column in the dataset refers to the Federal Information Processing Standards (FIPS) code.\n",
    "\n",
    "The `reframe()` function is recommended other than `summarise()` in the latest version of dplyr when you want to ensure that the output is always an ungrouped data frame."
   ]
  },
  {
   "cell_type": "markdown",
   "id": "77473523-1758-41a6-b0b4-d98d309519c3",
   "metadata": {},
   "source": [
    "### Part 3: Data Visualization\n",
    "\n",
    "**Objective:** Create visual representations to compare COVID-19 cases and deaths between Alabama and the selected state.\n",
    "\n",
    "#### Steps:\n",
    "1. **Line Plot of Cases Over Time:**\n",
    "    - Visualize how the number of cases has changed over time for both states.\n",
    "2. **Bar Plot for Deaths:**\n",
    "    - Compare the number of deaths across the states.\n",
    "\n",
    "We are using side-by-side plots to facilitate direct comparison."
   ]
  },
  {
   "cell_type": "code",
   "execution_count": null,
   "id": "8eed7e08-d01f-46e0-a580-8393149f9e0b",
   "metadata": {},
   "outputs": [],
   "source": [
    "# Line plot for cases over time for both states\n",
    "ggplot(covid_data_filtered, aes(x = date, y = cases, color = state)) +\n",
    "  geom_line(linewidth = 1) +\n",
    "  labs(title = \"COVID-19 Cases in Alabama vs. Georgia Over Time\",\n",
    "       x = \"Date\",\n",
    "       y = \"Number of Cases\") +\n",
    "  theme_minimal()\n",
    "\n",
    "# Bar plot for deaths comparison\n"
   ]
  },
  {
   "cell_type": "markdown",
   "id": "937cc0bb-8af4-414c-ae13-5dc92488aa46",
   "metadata": {},
   "source": [
    "### Part 4: Probability and Distribution Analysis\n",
    "\n",
    "Objective: Apply probability concepts and work with distributions based on the COVID-19 data.\n",
    "\n",
    "#### Steps:\n",
    "1. **Assume Normal Distribution:**\n",
    "    - Based on the data, assume that daily new cases for each state are normally distributed.\n",
    "2. **Calculate Probabilities:**\n",
    "    - Determine the probability that a randomly selected day in Alabama has more than a certain number of new cases (e.g., 1000) and compare this with the other state.\n",
    "3. **Determine Percentiles:**\n",
    "    - Calculate the 90th percentile for daily new cases in both states and compare the results."
   ]
  },
  {
   "cell_type": "code",
   "execution_count": null,
   "id": "13566466-4ef2-4d4d-9178-cd41a3ca4a4a",
   "metadata": {},
   "outputs": [],
   "source": [
    "# Calculate mean and standard deviation for Alabama and Georgia daily new cases\n",
    "mean_cases_alabama <- mean(covid_data_filtered$cases[covid_data_filtered$state == \"Alabama\"], na.rm = TRUE)\n",
    "sd_cases_alabama <- sd(covid_data_filtered$cases[covid_data_filtered$state == \"Alabama\"], na.rm = TRUE)\n",
    "\n",
    "mean_cases_georgia <- mean(covid_data_filtered$cases[covid_data_filtered$state == \"Georgia\"], na.rm = TRUE)\n",
    "sd_cases_georgia <- sd(covid_data_filtered$cases[covid_data_filtered$state == \"Georgia\"], na.rm = TRUE)\n",
    "\n",
    "# Probability of more than 1000 cases in Alabama on a given day\n",
    "prob_above_1000_alabama <- 1 - pnorm(1000, mean = mean_cases_alabama, sd = sd_cases_alabama)\n",
    "prob_above_1000_alabama\n",
    "\n",
    "# Probability of more than 1000 cases in Georgia on a given day\n",
    "\n",
    "\n",
    "# 90th percentile for daily new cases in Alabama\n",
    "\n",
    "\n",
    "# 90th percentile for daily new cases in Georgia\n"
   ]
  },
  {
   "cell_type": "markdown",
   "id": "a686f4e5-5d3a-49cf-ae09-2b4f7e58db21",
   "metadata": {},
   "source": [
    "### Your Conclusion\n",
    "\n",
    "Based on your calculations, what can you conclude about the severity or spread of COVID-19 in Alabama compared to the other state? Are there specific periods of concern or significant differences in the distribution of cases?"
   ]
  },
  {
   "cell_type": "code",
   "execution_count": null,
   "id": "2d6a9f32-9048-4d60-ba3c-d6328f2d5845",
   "metadata": {},
   "outputs": [],
   "source": []
  }
 ],
 "metadata": {
  "kernelspec": {
   "display_name": "R",
   "language": "R",
   "name": "ir"
  },
  "language_info": {
   "codemirror_mode": "r",
   "file_extension": ".r",
   "mimetype": "text/x-r-source",
   "name": "R",
   "pygments_lexer": "r",
   "version": "4.3.1"
  }
 },
 "nbformat": 4,
 "nbformat_minor": 5
}
