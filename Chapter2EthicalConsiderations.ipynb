{
 "cells": [
  {
   "cell_type": "markdown",
   "id": "f0191383-ddcb-4578-b05e-380d492dd892",
   "metadata": {
    "tags": []
   },
   "source": [
    "## Chapter 2: Ethical Considerations in Data Analysis\n",
    "#### MA 189 Data Dive Into Birmingham (with R)\n",
    "##### _Blazer Core: City as Classroom_\n",
    "\n",
    "Course Website: [Github.com/kerenli/statbirmingham/](https://github.com/kerenli/statbirmingham/) \n"
   ]
  },
  {
   "cell_type": "markdown",
   "id": "08d2fcf2-b953-42cd-a4a9-e97a943a7e1b",
   "metadata": {
    "tags": []
   },
   "source": [
    "#### Levels:\n",
    "<div class=\"alert-success\"> Concepts and general information</div>\n",
    "<div class=\"alert-warning\"> Important methods and technique details </div>\n",
    "<div class=\"alert-info\"> Extended reading </div>\n",
    "<div class=\"alert-danger\"> (Local) examples, assignments, and <b>Practice in Birmingham</b> </div>"
   ]
  },
  {
   "cell_type": "markdown",
   "id": "0cbe4792",
   "metadata": {},
   "source": [
    "##### <div class=\"alert alert-block alert-success\"> Introduction </div>\n",
    "\n",
    "Ethical considerations are a part of all stages of a study: the design of it, the data collection, and the protection of data during analysis and distribution of results. This introduction video recounts a harrowing piece of history in Alabama called The Tuskegee Study in which unethical practices severely harmed and even killed Black men in Tuskegee, Alabama. \n",
    "\n",
    "[![Video: The Tuskegee Study](https://www.youtube.com/watch?v=afwK2CVpc9E)](https://www.youtube.com/watch?v=afwK2CVpc9E)\n",
    "\n",
    "By the end of this chapter, you will have the skills to recognize ethical practices in studies and data analysis as well as understand the implications of one's digital footprint in this world as related to their privacy.  \n"
   ]
  },
  {
   "cell_type": "markdown",
   "id": "a4551389-5dd1-40c7-bb90-703d77d5f06a",
   "metadata": {
    "tags": []
   },
   "source": [
    "### Ethical Implications for Data Analysis\n",
    "\n",
    "Take a moment to watch this overview of data ethics:\n",
    "\n",
    "[![Video: Data Ethics](https://www.youtube.com/watch?v=l-k_1RQmmVY)](https://www.youtube.com/watch?v=l-k_1RQmmVY)\n"
   ]
  },
  {
   "cell_type": "markdown",
   "id": "ef7c4a71",
   "metadata": {},
   "source": [
    "<div class=\"alert alert-block alert-danger\">\n",
    "    <b>Application in Birmingham from Area of Environment </b>\n",
    "</div>\n",
    "\n",
    "As a further motivation for this chapter, consider the video below from Molly Edwards at __Alabama Power Company__ discussing the importance of data privacy and confidentiality in terms of customer information, complicance/legal requirements and regulations, and preventing competitor advantages. \n",
    "\n",
    "\n",
    "\n",
    "[![Video: Alabama Power Company Data Privacy and Confidentiality](https://youtu.be/i0dprFtscMM)](https://youtu.be/i0dprFtscMM)\n",
    "\n"
   ]
  },
  {
   "cell_type": "markdown",
   "id": "6a54bb4c-b454-4956-8be7-24b6c4809554",
   "metadata": {
    "tags": []
   },
   "source": [
    "##### <div class=\"alert alert-block alert-success\"> Human Subjects </div>\n",
    "\n",
    "* For studies involving humans:\n",
    "1. All planned studies must be reviewed in advance by an __Institutional Review Board__ (a panel of experts) charged with protecting the safety and well-being of humans involved. \n",
    "* Some studies require less rigorous review by an Institutional Review Board if they are considered to have only  \"minimal risk\" to the subjects of the study, which means the risks are no greater than those ordinarily encountered in daily life or during routine physical or psychological examinations or tests. \n",
    "\n",
    "2. All individuals in a study must give their __informed consent__ (know in advance the purpose of the study and any risks) before data are collected.\n",
    "* There are certain groups of people that have particular protections due to their limitations with informed consent and to avoid coercion. \n",
    "\n",
    "\n",
    "3. All individual data must be kept __confidential__ (to protect an individual's privacy). Only statistical summaries for groups of people may be made public due to the possibly sensitive nature of data that is personally identifiable.  \n",
    "* Best practice is to separate the identity of the subjects from the rest of the data all at once. Confidentiality is not the same as anonymity (where the names are unknown - this is rare in statistical studies). \n",
    "\n",
    "Beyond that, there are other ethical questions surrounding human subjects in a study such as gaining consent from those unable to give consent (e.g. unconscious in the emergency room) for research on a new medical treatment. \n",
    "\n",
    "\n",
    "\n"
   ]
  },
  {
   "cell_type": "markdown",
   "id": "eeff45ea",
   "metadata": {},
   "source": [
    "<div class=\"alert alert-block alert-danger\"><b>Example:</b> Ethics </div>\n",
    "\n",
    "Here is a resource that has been developed with ethical data practices in mind: https://www.responsible-datasets-in-context.com/. What stands out to you here?"
   ]
  },
  {
   "cell_type": "markdown",
   "id": "f38456a0",
   "metadata": {},
   "source": [
    "##### Your answer:"
   ]
  },
  {
   "cell_type": "markdown",
   "id": "0e48e8cd-0976-4452-9c02-f8b9090bf097",
   "metadata": {},
   "source": [
    "<div class=\"alert alert-block alert-danger\"><b>Local Student Practice: UAB All of Us Research Program</b></div>\n",
    "\n",
    "All of Us is a large research program stemming from National Institutes of Health (NIH) with a goal of helping researchers understand more about why people get sick or stay healthy in which UAB Medicine is a part. \n",
    "\n",
    "Take a look at the following website regarding data security policy principles and framework (bottom of page): \n",
    "https://allofus.nih.gov/article/precision-medicine-initiative-data-security-policy-principles-and-framework-overview",
    "\n",
    "What stands out to you? \n",
    "\n"
   ]
  },
  {
   "cell_type": "markdown",
   "id": "6decc0cd",
   "metadata": {},
   "source": [
    "##### Your answer:\n",
    "\n",
    "\n"
   ]
  },
  {
   "cell_type": "markdown",
   "id": "574768b8",
   "metadata": {},
   "source": [
    "### Privacy Concerns and Considerations with Data / Data Analysis"
   ]
  },
  {
   "cell_type": "markdown",
   "id": "177fd156",
   "metadata": {},
   "source": [
    "The public is often not aware that their data or images are being captured and about policies related to how their data are being used, stored, or shared. \n",
    "\n",
    "Companies gather data from people in order to target product offerings and advertisements. Apps and websites (whether free or not) are earning money by selling user data to advertisers. This is captured in the saying that \"If you are not paying for a product, then YOU are the product.\" Data has VALUE and users are viewed as data generators rather than people.\n",
    "\n",
    "* Social platforms use data as a bargaining chip for advertising companies (how much they can see for a certain price).\n",
    "* Advertising companies want data to infer the needs of individuals and learn how to better target that audience with their needs.\n",
    "* Criminals desire data for blackmailing, identity theft, or selling data to others for money. \n",
    "\n",
    "We leave digital footprints and computers reassemble the information of the who/what/where/when/how, so they are no longer just fragments of information and can tell a whole story of our comings and goings in day-to-day life.\n",
    "\n",
    "At times, people accept loss of privacy for efficiency, convenience, discounts, or a small amount of compensation. \n",
    "\n"
   ]
  },
  {
   "cell_type": "markdown",
   "id": "8ee624bc",
   "metadata": {},
   "source": [
    "<div class=\"alert alert-block alert-danger\"><b>Examples:</b> (Lack of) Privacy in Daily Life</div>\n",
    "\n",
    "Each student will be reading a different excerpt from Blown to Bits: Your Life, Liberty, and Happiness After the Digital Explosion by Abelson et. al (https://www.bitsbook.com/excerpts/) that relates to privacy concerns in daily life. \n",
    "\n",
    "After reading, be ready to share your example succinctly first with a partner and then with the class and have a small reflection to share based on your reading. (What response did it evoke in you? Do you believe there is anything problematic about what you read? What can we learn from the example?) \n",
    "\n",
    "<ins>Chapter 2:</ins>\n",
    "\n",
    "1984 Is Here, and We Like It (page 21)\n",
    "\n",
    "Black Boxes: Not Just for Airplanes Anymore (page 29)\n",
    "\n",
    "Loose Fitbits Sink Ships? (page 32) \n",
    "\n",
    "Smart Cities (page 46)\n",
    "\n",
    "\n",
    "<ins>Chapter 3:</ins>\n",
    "\n",
    "What Kind of Vegetable Are You? (page 51)\n",
    "\n",
    "Smile While We Snap! (page 56) \n",
    "\n",
    "Target Knows You're Pregnant (page 61) \n",
    "\n",
    "You Pay for the Mic, We’ll Just Listen In (page 62)\n",
    "\n",
    "Venmo: It All Adds Up (page 63) \n",
    "\n",
    "DNA: The Ultimate Digital Footprint (page 63)\n",
    "\n",
    "Always On (page 70)\n"
   ]
  },
  {
   "cell_type": "markdown",
   "id": "ac79a58f",
   "metadata": {},
   "source": [
    "<div class=\"alert alert-block alert-danger\">\n",
    "    <b>Student Discussion</b>\n",
    "</div>\n",
    "\n",
    "\n",
    "Discussion Questions: \n",
    "* Since we can't go back to limited information and limited information-gathering from the past, how do we move forward ethically?\n",
    "\n",
    "* What are the benefits of detailed, digitalized data collection?\n",
    "\n",
    "* What are your primary fears with these privacy concern realities?\n",
    "\n",
    "* Do you believe that people have a right to own their data, know what data has been collected about them and how it's used, and/or to delete or relocate data as they desire? Why or why not?\n",
    "\n",
    "* How much do you think your data is worth as a person? Take a guess before looking here (https://www.invisibly.com/learn-blog/how-much-is-data-worth/) to see some examples. Were you close? \n",
    "\n",
    "* How might you implement these ideas in the realm of data analysis for this course?\n",
    "\n"
   ]
  },
  {
   "cell_type": "markdown",
   "id": "9b402d2f",
   "metadata": {},
   "source": [
    "##### Your answer:\n"
   ]
  }
 ],
 "metadata": {
  "kernelspec": {
   "display_name": "R",
   "language": "R",
   "name": "ir"
  },
  "language_info": {
   "codemirror_mode": "r",
   "file_extension": ".r",
   "mimetype": "text/x-r-source",
   "name": "R",
   "pygments_lexer": "r",
   "version": "4.3.1"
  }
 },
 "nbformat": 4,
 "nbformat_minor": 5
}
